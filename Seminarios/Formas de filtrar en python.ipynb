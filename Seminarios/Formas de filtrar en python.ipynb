{
 "cells": [
  {
   "cell_type": "code",
   "execution_count": 1,
   "metadata": {},
   "outputs": [
    {
     "name": "stdout",
     "output_type": "stream",
     "text": [
      "   Columna_1  Columna_2  Columna_3  Columna_4  Columna_5\n",
      "0         52         93         15         72         61\n",
      "1         21         83         87         75         75\n",
      "2         88         24          3         22         53\n",
      "3          2         88         30         38          2\n",
      "4         64         60         21         33         76\n",
      "5         58         22         89         49         91\n",
      "6         59         42         92         60         80\n",
      "7         15         62         62         47         62\n",
      "8         51         55         64          3         51\n",
      "9          7         21         73         39         18\n"
     ]
    }
   ],
   "source": [
    "import numpy as np\n",
    "import pandas as pd\n",
    "\n",
    "# Definir el tamaño del DataFrame\n",
    "filas = 10\n",
    "columnas = 5\n",
    "\n",
    "# Generar datos aleatorios\n",
    "np.random.seed(42)  # Para que los datos sean reproducibles\n",
    "datos_aleatorios = np.random.randint(1, 100, size=(filas, columnas))\n",
    "\n",
    "# Crear el DataFrame\n",
    "columnas_nombres = ['Columna_' + str(i) for i in range(1, columnas + 1)]\n",
    "df = pd.DataFrame(datos_aleatorios, columns=columnas_nombres)\n",
    "\n",
    "# Mostrar el DataFrame generado\n",
    "print(df)\n"
   ]
  },
  {
   "cell_type": "markdown",
   "metadata": {},
   "source": [
    "FORMAS DE FILTRAR"
   ]
  },
  {
   "cell_type": "code",
   "execution_count": 2,
   "metadata": {},
   "outputs": [
    {
     "name": "stdout",
     "output_type": "stream",
     "text": [
      "   Columna_1  Columna_2  Columna_3  Columna_4  Columna_5\n",
      "0         52         93         15         72         61\n",
      "2         88         24          3         22         53\n",
      "4         64         60         21         33         76\n",
      "5         58         22         89         49         91\n",
      "6         59         42         92         60         80\n",
      "8         51         55         64          3         51\n"
     ]
    }
   ],
   "source": [
    "filtro_columna = df[df['Columna_1'] > 50]\n",
    "print(filtro_columna)"
   ]
  },
  {
   "cell_type": "code",
   "execution_count": 3,
   "metadata": {},
   "outputs": [
    {
     "name": "stdout",
     "output_type": "stream",
     "text": [
      "   Columna_1  Columna_2  Columna_3  Columna_4  Columna_5\n",
      "2         88         24          3         22         53\n",
      "4         64         60         21         33         76\n",
      "5         58         22         89         49         91\n",
      "6         59         42         92         60         80\n",
      "8         51         55         64          3         51\n"
     ]
    }
   ],
   "source": [
    "filtro_query = df.query('Columna_1 > 50 and Columna_2 < 80')\n",
    "print(filtro_query)"
   ]
  },
  {
   "cell_type": "code",
   "execution_count": 4,
   "metadata": {},
   "outputs": [
    {
     "name": "stdout",
     "output_type": "stream",
     "text": [
      "   Columna_1  Columna_2  Columna_3  Columna_4  Columna_5\n",
      "3          2         88         30         38          2\n"
     ]
    }
   ],
   "source": [
    "valores_a_filtrar = [30, 40, 50]\n",
    "filtro_isin = df[df['Columna_3'].isin(valores_a_filtrar)]\n",
    "print(filtro_isin)"
   ]
  },
  {
   "cell_type": "code",
   "execution_count": 5,
   "metadata": {},
   "outputs": [
    {
     "name": "stdout",
     "output_type": "stream",
     "text": [
      "   Columna_1  Columna_2  Columna_3  Columna_4  Columna_5\n",
      "2         88         24          3         22         53\n",
      "3          2         88         30         38          2\n",
      "4         64         60         21         33         76\n",
      "5         58         22         89         49         91\n",
      "   Columna_2  Columna_3  Columna_4\n",
      "0         93         15         72\n",
      "1         83         87         75\n",
      "2         24          3         22\n",
      "3         88         30         38\n",
      "4         60         21         33\n",
      "5         22         89         49\n",
      "6         42         92         60\n",
      "7         62         62         47\n",
      "8         55         64          3\n",
      "9         21         73         39\n",
      "   Columna_2  Columna_3  Columna_4\n",
      "2         24          3         22\n",
      "3         88         30         38\n",
      "4         60         21         33\n",
      "5         22         89         49\n"
     ]
    }
   ],
   "source": [
    "# Filtrar por etiquetas de índice\n",
    "filtro_loc_index = df.loc[2:5]\n",
    "print(filtro_loc_index)\n",
    "\n",
    "# Filtrar por etiquetas de columna\n",
    "filtro_loc_columna = df.loc[:, 'Columna_2':'Columna_4']\n",
    "print(filtro_loc_columna)\n",
    "\n",
    "# Filtrar por etiquetas de índice y etiquetas de columna\n",
    "filtro_loc_index_columna = df.loc[2:5, 'Columna_2':'Columna_4']\n",
    "print(filtro_loc_index_columna)"
   ]
  },
  {
   "cell_type": "markdown",
   "metadata": {},
   "source": [
    "FILTRAR POR INDICE"
   ]
  },
  {
   "cell_type": "code",
   "execution_count": 6,
   "metadata": {},
   "outputs": [
    {
     "name": "stdout",
     "output_type": "stream",
     "text": [
      "   Nombre  Edad  Puntuación\n",
      "2  Carlos    22          75\n",
      "3     Ana    28          88\n",
      "4    Luis    35          92\n"
     ]
    }
   ],
   "source": [
    "# Crear un DataFrame de ejemplo con índice numérico\n",
    "data = {\n",
    "    'Nombre': ['Juan', 'María', 'Carlos', 'Ana', 'Luis'],\n",
    "    'Edad': [25, 30, 22, 28, 35],\n",
    "    'Puntuación': [85, 90, 75, 88, 92]\n",
    "}\n",
    "\n",
    "df = pd.DataFrame(data)\n",
    "\n",
    "# Establecer el índice como una columna numérica (por defecto es numérico en este caso)\n",
    "# df.set_index('indice', inplace=True)  # Descomenta esta línea para establecer el índice\n",
    "\n",
    "# Filtrar las filas donde el índice es mayor o igual a 2\n",
    "\n",
    "#condicion=(df.index>=2)&(df.index<=4)\n",
    "condicion = df.index >= 2\n",
    "columnas_seleccionadas = ['Nombre', 'Edad', 'Puntuación']\n",
    "\n",
    "resultado = df.loc[condicion, columnas_seleccionadas]\n",
    "\n",
    "print(resultado)\n"
   ]
  }
 ],
 "metadata": {
  "kernelspec": {
   "display_name": "Estadisticas",
   "language": "python",
   "name": "python3"
  },
  "language_info": {
   "codemirror_mode": {
    "name": "ipython",
    "version": 3
   },
   "file_extension": ".py",
   "mimetype": "text/x-python",
   "name": "python",
   "nbconvert_exporter": "python",
   "pygments_lexer": "ipython3",
   "version": "3.10.6"
  },
  "orig_nbformat": 4
 },
 "nbformat": 4,
 "nbformat_minor": 2
}
