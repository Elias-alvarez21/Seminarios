{
 "cells": [
  {
   "cell_type": "markdown",
   "metadata": {},
   "source": [
    "# NumPy\n",
    "**Array**:<br>\n",
    "Estructura ordenada e indexada y accesible independeientemetne.  Es el principal elemento de *NumPy* y esta librería está optimizada para acceder a los datos de manera mas eficiente que las listas de python."
   ]
  },
  {
   "cell_type": "markdown",
   "metadata": {},
   "source": [
    "para importar librería"
   ]
  },
  {
   "cell_type": "code",
   "execution_count": 1,
   "metadata": {},
   "outputs": [],
   "source": [
    "import numpy as np"
   ]
  },
  {
   "cell_type": "markdown",
   "metadata": {},
   "source": [
    "Defino lista y lo incorporo a numpy.  Es un elemento de una dimensión"
   ]
  },
  {
   "cell_type": "code",
   "execution_count": 3,
   "metadata": {},
   "outputs": [
    {
     "name": "stdout",
     "output_type": "stream",
     "text": [
      "ls2 [1 2 3 4 5 6 7 8 9]\n",
      "<class 'list'>\n",
      "[1, 2, 3, 4, 5, 6, 7, 8, 9]\n",
      "<class 'numpy.ndarray'>\n",
      "[1 2 3 4 5 6 7 8 9]\n"
     ]
    }
   ],
   "source": [
    "ls=[1,2,3,4,5,6,7,8,9]\n",
    "arr=np.array(ls)\n",
    "ls2=np.arange(1,10)\n",
    "print(\"ls2\",ls2)\n",
    "print(type(ls))\n",
    "print(ls)\n",
    "print(type(arr))\n",
    "print(arr)"
   ]
  },
  {
   "cell_type": "markdown",
   "metadata": {},
   "source": [
    "Para definir un objeto de varias dimensiones se utilizan varios elementos de una dimensión, por ejemplo para generar un elemento de 2 dimensiones:"
   ]
  },
  {
   "cell_type": "code",
   "execution_count": 4,
   "metadata": {},
   "outputs": [
    {
     "name": "stdout",
     "output_type": "stream",
     "text": [
      "<class 'list'>\n",
      "[['juan', 1, 2, 3, True], ['Maria', 4, 5, 6, False], ['jose', 7, 8, 9, False]]\n",
      "<class 'numpy.ndarray'>\n",
      "[['juan' '1' '2' '3' 'True']\n",
      " ['Maria' '4' '5' '6' 'False']\n",
      " ['jose' '7' '8' '9' 'False']]\n"
     ]
    }
   ],
   "source": [
    "mtp = [[\"juan\",1,2,3,True],[\"Maria\",4,5,6,False],[\"jose\",7,8,9,False]]\n",
    "mt=np.array(mtp)\n",
    "print(type(mtp))\n",
    "print(mtp)\n",
    "print(type(mt))\n",
    "print(mt)"
   ]
  },
  {
   "cell_type": "markdown",
   "metadata": {},
   "source": [
    "Se accede a los elementos de la misma manera que python accede a las listas, de esta manera se pueden utilizar los elementos para distintos fines, por ejemplo:"
   ]
  },
  {
   "cell_type": "code",
   "execution_count": 5,
   "metadata": {},
   "outputs": [
    {
     "name": "stdout",
     "output_type": "stream",
     "text": [
      "4\n",
      "7\n",
      "11\n"
     ]
    }
   ],
   "source": [
    "print(arr[3])\n",
    "print(arr[6])\n",
    "print(arr[3]+arr[6])"
   ]
  },
  {
   "cell_type": "markdown",
   "metadata": {},
   "source": [
    "Para acceder a los elemento de una matriz se puede acceder primero al numero de fila, y luego al numero de columna, y tambien pueden usarse para cualquier operación.<br>\n",
    "También puede accederse separando dentro del corchete de la matriz ubicando en el mismo orden (fila, columa) separando los valores con coma \",\"."
   ]
  },
  {
   "cell_type": "code",
   "execution_count": 6,
   "metadata": {},
   "outputs": [
    {
     "name": "stdout",
     "output_type": "stream",
     "text": [
      "6\n",
      "2\n",
      "4\n"
     ]
    }
   ],
   "source": [
    "print(mt[1][3])\n",
    "print(mt[0][2])\n",
    "print(int(mt[1,3])-int(mt[0,2]))"
   ]
  },
  {
   "cell_type": "markdown",
   "metadata": {},
   "source": [
    "Del mismo modo se accede a rango de valores con slicing."
   ]
  },
  {
   "cell_type": "code",
   "execution_count": 7,
   "metadata": {},
   "outputs": [
    {
     "name": "stdout",
     "output_type": "stream",
     "text": [
      "[3 4 5 6]\n",
      "[['1' '2']\n",
      " ['4' '5']]\n"
     ]
    }
   ],
   "source": [
    "print(arr[2:6])\n",
    "print(mt[:2,1:3])"
   ]
  },
  {
   "cell_type": "markdown",
   "metadata": {},
   "source": [
    "**Generar un array de 3 dimensiones de 3 por 3 con los multiplos del 1 al 9 para las dimensiones 2, 3 y 4.**"
   ]
  },
  {
   "cell_type": "code",
   "execution_count": 16,
   "metadata": {},
   "outputs": [
    {
     "name": "stdout",
     "output_type": "stream",
     "text": [
      "cubo [[[2, 4, 6], [8, 10, 12], [14, 16, 18]], [[3, 6, 9], [12, 15, 18], [21, 24, 27]], [[4, 8, 12], [16, 20, 24], [28, 32, 36]]]\n"
     ]
    }
   ],
   "source": [
    "ran=range(1,10)\n",
    "m0=[]\n",
    "m1=[]\n",
    "m2=[]\n",
    "for dim in (2, 3, 4):\n",
    "    for x in ran:\n",
    "        val=dim*(int(x))\n",
    "        m0.append(val)\n",
    "    #print(\"vector\",m0)\n",
    "    m1.append(m0[:3])\n",
    "    #print(\"m \",dim,\" - 1\", m1)\n",
    "    m1.append(m0[3:6])\n",
    "    #print(\"m \",dim,\" - 2\", m1)\n",
    "    m1.append(m0[6:])\n",
    "    #print(\"m \",dim,\" - 3\", m1)\n",
    "    m0=[]\n",
    "    m2.append(m1)\n",
    "    #print(\"matriz\",m1)\n",
    "    m1=[]\n",
    "print(\"cubo\",m2)\n"
   ]
  },
  {
   "cell_type": "markdown",
   "metadata": {},
   "source": [
    "Buscar el numero 15, 16 y 28 con la lista (m2) y con *NumPy*"
   ]
  },
  {
   "cell_type": "code",
   "execution_count": 18,
   "metadata": {},
   "outputs": [
    {
     "name": "stdout",
     "output_type": "stream",
     "text": [
      "==================================================\n",
      "Busqueda por la lista\n",
      "[[[2, 4, 6], [8, 10, 12], [14, 16, 18]], [[3, 6, 9], [12, 15, 18], [21, 24, 27]], [[4, 8, 12], [16, 20, 24], [28, 32, 36]]]\n",
      "--------------------------------------------------\n",
      "15\n",
      "16\n",
      "28\n",
      "==================================================\n",
      "Busqueda por NumPy\n",
      "--------------------------------------------------\n",
      "[[[ 2  4  6]\n",
      "  [ 8 10 12]\n",
      "  [14 16 18]]\n",
      "\n",
      " [[ 3  6  9]\n",
      "  [12 15 18]\n",
      "  [21 24 27]]\n",
      "\n",
      " [[ 4  8 12]\n",
      "  [16 20 24]\n",
      "  [28 32 36]]]\n",
      "15\n",
      "16\n",
      "28\n"
     ]
    }
   ],
   "source": [
    "print(\"=\"*50)\n",
    "print(\"Busqueda por la lista\")\n",
    "print(m2)\n",
    "print(\"-\"*50)\n",
    "print(m2[1][1][1])\n",
    "print(m2[0][2][1])\n",
    "print(m2[2][2][0])\n",
    "print(\"=\"*50)\n",
    "print(\"Busqueda por NumPy\")\n",
    "print(\"-\"*50)\n",
    "m3d=np.array(m2)\n",
    "print(m3d)\n",
    "print(m3d[1,1,1])\n",
    "print(m3d[0,2,1])\n",
    "print(m3d[2][2][0])"
   ]
  },
  {
   "cell_type": "markdown",
   "metadata": {},
   "source": [
    "### Tipos de datos\n",
    "dtype, devuelve el tipo de dato que se está usando"
   ]
  },
  {
   "cell_type": "code",
   "execution_count": 19,
   "metadata": {},
   "outputs": [
    {
     "name": "stdout",
     "output_type": "stream",
     "text": [
      "int64\n",
      "float64\n",
      "[[[ 2.  4.  6.]\n",
      "  [ 8. 10. 12.]\n",
      "  [14. 16. 18.]]\n",
      "\n",
      " [[ 3.  6.  9.]\n",
      "  [12. 15. 18.]\n",
      "  [21. 24. 27.]]\n",
      "\n",
      " [[ 4.  8. 12.]\n",
      "  [16. 20. 24.]\n",
      "  [28. 32. 36.]]]\n",
      "float64\n",
      "bool [False  True False  True  True  True False  True  True False]\n",
      "int8 [0 1 0 1 1 1 0 1 1 0]\n"
     ]
    }
   ],
   "source": [
    "print(m3d.dtype)\n",
    "m3df=np.array(m2, dtype='float64')\n",
    "print(m3df.dtype)\n",
    "print(m3df)\n",
    "# convierte una variable en ya definia como np.array y se define desde la librería con np.float64 por su eficiencia en la manipulación de datos\n",
    "m3dff=m3d.astype(np.float64)\n",
    "print(m3dff.dtype)\n",
    "## PROBAR PASAR A BOOLEANO LA SERIE (0,2,0,1,1,1,0,2,3,0)\n",
    "ser=(0,2,0,1,1,1,0,2,3,0)\n",
    "sernp=np.array(ser, np.bool_)\n",
    "print(\"bool\", sernp)\n",
    "ser=sernp.astype(np.int8)\n",
    "print(\"int8\",ser)"
   ]
  }
 ],
 "metadata": {
  "kernelspec": {
   "display_name": "Python 3",
   "language": "python",
   "name": "python3"
  },
  "language_info": {
   "codemirror_mode": {
    "name": "ipython",
    "version": 3
   },
   "file_extension": ".py",
   "mimetype": "text/x-python",
   "name": "python",
   "nbconvert_exporter": "python",
   "pygments_lexer": "ipython3",
   "version": "3.12.3"
  }
 },
 "nbformat": 4,
 "nbformat_minor": 2
}
