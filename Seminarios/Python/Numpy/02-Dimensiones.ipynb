{
 "cells": [
  {
   "cell_type": "markdown",
   "metadata": {},
   "source": [
    "### Dimensiones\n",
    "- Dimensión 0=> Escalar: un dato.\n",
    "- Dimensión 1=> Vector o array; lista o serie.\n",
    "- Dimensión 2=> Matriz; tabla de doble entrada.\n",
    "- Dimensión n=> Tensor; conjunto de datos multidimensionales."
   ]
  },
  {
   "cell_type": "code",
   "execution_count": 2,
   "metadata": {},
   "outputs": [],
   "source": [
    "import numpy as np"
   ]
  },
  {
   "cell_type": "markdown",
   "metadata": {},
   "source": [
    "* Escalar un dato aislado\n",
    "* Metodo .ndim devuelve el numero de dimenciones de un array"
   ]
  },
  {
   "cell_type": "code",
   "execution_count": 5,
   "metadata": {},
   "outputs": [
    {
     "name": "stdout",
     "output_type": "stream",
     "text": [
      "Juan\n"
     ]
    },
    {
     "data": {
      "text/plain": [
       "0"
      ]
     },
     "execution_count": 5,
     "metadata": {},
     "output_type": "execute_result"
    }
   ],
   "source": [
    "escalar = np.array(\"Juan\")\n",
    "print(escalar)\n",
    "escalar.ndim"
   ]
  },
  {
   "cell_type": "markdown",
   "metadata": {},
   "source": [
    "* Vector como lista de valores"
   ]
  },
  {
   "cell_type": "code",
   "execution_count": 7,
   "metadata": {},
   "outputs": [
    {
     "name": "stdout",
     "output_type": "stream",
     "text": [
      "[1 2 3 4 5 6 7]\n"
     ]
    },
    {
     "data": {
      "text/plain": [
       "1"
      ]
     },
     "execution_count": 7,
     "metadata": {},
     "output_type": "execute_result"
    }
   ],
   "source": [
    "vector = np.array([1,2,3,4,5,6,7])\n",
    "print(vector)\n",
    "vector.ndim"
   ]
  },
  {
   "cell_type": "markdown",
   "metadata": {},
   "source": [
    "* Matriz como lista de lista"
   ]
  },
  {
   "cell_type": "code",
   "execution_count": 11,
   "metadata": {},
   "outputs": [
    {
     "name": "stdout",
     "output_type": "stream",
     "text": [
      "[[1 2 3 4 5 6 7]\n",
      " [8 7 8 8 7 6 7]\n",
      " [1 2 2 2 5 1 3]]\n"
     ]
    },
    {
     "data": {
      "text/plain": [
       "2"
      ]
     },
     "execution_count": 11,
     "metadata": {},
     "output_type": "execute_result"
    }
   ],
   "source": [
    "matriz = np.array([[1,2,3,4,5,6,7],[8,7,8,8,7,6,7],[1,2,2,2,5,1,3]])\n",
    "print(matriz)\n",
    "matriz.ndim"
   ]
  },
  {
   "cell_type": "markdown",
   "metadata": {},
   "source": [
    "* Tensor como lista de matrices, y a partir de esta dimensión cada array con mas de 3 dimensiones se denomina tensor"
   ]
  },
  {
   "cell_type": "code",
   "execution_count": 12,
   "metadata": {},
   "outputs": [
    {
     "name": "stdout",
     "output_type": "stream",
     "text": [
      "[[[1 2 3 4 5 6 7]\n",
      "  [8 7 8 8 7 6 7]\n",
      "  [1 2 2 2 5 1 3]]\n",
      "\n",
      " [[1 2 3 4 5 6 7]\n",
      "  [8 7 8 8 7 6 7]\n",
      "  [1 2 2 2 5 1 3]]\n",
      "\n",
      " [[1 2 3 4 5 6 7]\n",
      "  [8 7 8 8 7 6 7]\n",
      "  [1 2 2 2 5 1 3]]]\n"
     ]
    },
    {
     "data": {
      "text/plain": [
       "3"
      ]
     },
     "execution_count": 12,
     "metadata": {},
     "output_type": "execute_result"
    }
   ],
   "source": [
    "tensor = np.array([[[1,2,3,4,5,6,7],[8,7,8,8,7,6,7],[1,2,2,2,5,1,3]],[[1,2,3,4,5,6,7],[8,7,8,8,7,6,7],[1,2,2,2,5,1,3]],[[1,2,3,4,5,6,7],[8,7,8,8,7,6,7],[1,2,2,2,5,1,3]]])\n",
    "print(tensor)\n",
    "tensor.ndim"
   ]
  },
  {
   "cell_type": "markdown",
   "metadata": {},
   "source": [
    "### Agregar dimensiones\n",
    "\n",
    "* Cuando se crea el array con *,ndimn=x*"
   ]
  },
  {
   "cell_type": "code",
   "execution_count": 16,
   "metadata": {},
   "outputs": [
    {
     "name": "stdout",
     "output_type": "stream",
     "text": [
      "[[[[[1 2 3 4 5 6 7]\n",
      "    [8 7 8 8 7 6 7]\n",
      "    [1 2 2 2 5 1 3]]]]]\n"
     ]
    },
    {
     "data": {
      "text/plain": [
       "5"
      ]
     },
     "execution_count": 16,
     "metadata": {},
     "output_type": "execute_result"
    }
   ],
   "source": [
    "tens5 = np.array([[1,2,3,4,5,6,7],[8,7,8,8,7,6,7],[1,2,2,2,5,1,3]],ndmin=5)\n",
    "print(tens5)\n",
    "tens5.ndim"
   ]
  },
  {
   "cell_type": "markdown",
   "metadata": {},
   "source": [
    "* Expandir dimensiones en un vector con **np.expand_dims()** determinado eje 0 para agregar fila, 1 para agregar columna"
   ]
  },
  {
   "cell_type": "code",
   "execution_count": 42,
   "metadata": {},
   "outputs": [
    {
     "name": "stdout",
     "output_type": "stream",
     "text": [
      "[1 2 3 4 5 6 7]\n",
      "1\n",
      "agrego fila con axis=0\n",
      "[[1 2 3 4 5 6 7]]\n",
      "[1 2 3 4 5 6 7]\n",
      "1\n",
      "2\n",
      "agrego columna con axis=1\n",
      "[[1]\n",
      " [2]\n",
      " [3]\n",
      " [4]\n",
      " [5]\n",
      " [6]\n",
      " [7]]\n",
      "[3]\n",
      "3\n",
      "2\n"
     ]
    }
   ],
   "source": [
    "print(vector)\n",
    "print(vector.ndim)\n",
    "print(\"agrego fila con axis=0\")\n",
    "vec0 = np.expand_dims(vector, axis=0)\n",
    "print(vec0)\n",
    "print(vec0[0])\n",
    "print(vec0[0][0])\n",
    "print(vec0.ndim)\n",
    "print(\"agrego columna con axis=1\")\n",
    "vec1 = np.expand_dims(vector, axis=1)\n",
    "print(vec1)\n",
    "print(vec1[2])\n",
    "print(vec1[2][0])\n",
    "print(vec1.ndim)"
   ]
  },
  {
   "cell_type": "markdown",
   "metadata": {},
   "source": [
    "* Quitar dimensiones vacías **np.sqeeze()**"
   ]
  },
  {
   "cell_type": "code",
   "execution_count": 44,
   "metadata": {},
   "outputs": [
    {
     "name": "stdout",
     "output_type": "stream",
     "text": [
      "[[[[[1 2 3 4 5 6 7]\n",
      "    [8 7 8 8 7 6 7]\n",
      "    [1 2 2 2 5 1 3]]]]] 5\n",
      "[[1 2 3 4 5 6 7]\n",
      " [8 7 8 8 7 6 7]\n",
      " [1 2 2 2 5 1 3]] 2\n"
     ]
    }
   ],
   "source": [
    "print(tens5, tens5.ndim)\n",
    "tens0=np.squeeze(tens5)\n",
    "print(tens0, tens0.ndim)"
   ]
  },
  {
   "cell_type": "markdown",
   "metadata": {},
   "source": [
    "### CREAR Array desde NumPy"
   ]
  },
  {
   "cell_type": "markdown",
   "metadata": {},
   "source": [
    "Con Pyton, lista hecha con rango (range)"
   ]
  },
  {
   "cell_type": "code",
   "execution_count": 55,
   "metadata": {},
   "outputs": [
    {
     "data": {
      "text/plain": [
       "[0, 3, 6, 9, 12, 15, 18, 21, 24, 27]"
      ]
     },
     "execution_count": 55,
     "metadata": {},
     "output_type": "execute_result"
    }
   ],
   "source": [
    "list(range(0,30,3))\n"
   ]
  },
  {
   "cell_type": "markdown",
   "metadata": {},
   "source": [
    "Rango generado en un array con *NumPy*"
   ]
  },
  {
   "cell_type": "code",
   "execution_count": 54,
   "metadata": {},
   "outputs": [
    {
     "data": {
      "text/plain": [
       "array([ 0,  3,  6,  9, 12, 15, 18, 21, 24, 27])"
      ]
     },
     "execution_count": 54,
     "metadata": {},
     "output_type": "execute_result"
    }
   ],
   "source": [
    "np.arange(0,30,3)"
   ]
  },
  {
   "cell_type": "markdown",
   "metadata": {},
   "source": [
    "### ZEROS\n",
    "Array de ceros"
   ]
  },
  {
   "cell_type": "code",
   "execution_count": 56,
   "metadata": {},
   "outputs": [
    {
     "data": {
      "text/plain": [
       "array([0., 0., 0., 0., 0.])"
      ]
     },
     "execution_count": 56,
     "metadata": {},
     "output_type": "execute_result"
    }
   ],
   "source": [
    "np.zeros(5)"
   ]
  },
  {
   "cell_type": "markdown",
   "metadata": {},
   "source": [
    "Matriz de ceros"
   ]
  },
  {
   "cell_type": "code",
   "execution_count": 66,
   "metadata": {},
   "outputs": [
    {
     "data": {
      "text/plain": [
       "array([[0., 0., 0., 0., 0.],\n",
       "       [0., 0., 0., 0., 0.]])"
      ]
     },
     "execution_count": 66,
     "metadata": {},
     "output_type": "execute_result"
    }
   ],
   "source": [
    "# segunda dimensión 2 filas 5 columnas\n",
    "np.zeros((2,5))"
   ]
  },
  {
   "cell_type": "markdown",
   "metadata": {},
   "source": [
    "### ONES\n",
    "Varias dimensiones de unos (tambien, claro se puede hacer de ceros)"
   ]
  },
  {
   "cell_type": "code",
   "execution_count": 73,
   "metadata": {},
   "outputs": [
    {
     "data": {
      "text/plain": [
       "array([[[[1., 1., 1., 1., 1.],\n",
       "         [1., 1., 1., 1., 1.],\n",
       "         [1., 1., 1., 1., 1.],\n",
       "         [1., 1., 1., 1., 1.]],\n",
       "\n",
       "        [[1., 1., 1., 1., 1.],\n",
       "         [1., 1., 1., 1., 1.],\n",
       "         [1., 1., 1., 1., 1.],\n",
       "         [1., 1., 1., 1., 1.]],\n",
       "\n",
       "        [[1., 1., 1., 1., 1.],\n",
       "         [1., 1., 1., 1., 1.],\n",
       "         [1., 1., 1., 1., 1.],\n",
       "         [1., 1., 1., 1., 1.]]],\n",
       "\n",
       "\n",
       "       [[[1., 1., 1., 1., 1.],\n",
       "         [1., 1., 1., 1., 1.],\n",
       "         [1., 1., 1., 1., 1.],\n",
       "         [1., 1., 1., 1., 1.]],\n",
       "\n",
       "        [[1., 1., 1., 1., 1.],\n",
       "         [1., 1., 1., 1., 1.],\n",
       "         [1., 1., 1., 1., 1.],\n",
       "         [1., 1., 1., 1., 1.]],\n",
       "\n",
       "        [[1., 1., 1., 1., 1.],\n",
       "         [1., 1., 1., 1., 1.],\n",
       "         [1., 1., 1., 1., 1.],\n",
       "         [1., 1., 1., 1., 1.]]]])"
      ]
     },
     "execution_count": 73,
     "metadata": {},
     "output_type": "execute_result"
    }
   ],
   "source": [
    "# 4 dimensiones 2 x 3 x 4 x 5\n",
    "np.ones((((2,3,4,5))))"
   ]
  },
  {
   "cell_type": "markdown",
   "metadata": {},
   "source": [
    "Serie de N numeros en un rango desde un inicio I hasta un fin F, *np.linspace(I,F,N)*"
   ]
  },
  {
   "cell_type": "code",
   "execution_count": 75,
   "metadata": {},
   "outputs": [
    {
     "data": {
      "text/plain": [
       "array([ 0.        ,  3.10344828,  6.20689655,  9.31034483, 12.4137931 ,\n",
       "       15.51724138, 18.62068966, 21.72413793, 24.82758621, 27.93103448,\n",
       "       31.03448276, 34.13793103, 37.24137931, 40.34482759, 43.44827586,\n",
       "       46.55172414, 49.65517241, 52.75862069, 55.86206897, 58.96551724,\n",
       "       62.06896552, 65.17241379, 68.27586207, 71.37931034, 74.48275862,\n",
       "       77.5862069 , 80.68965517, 83.79310345, 86.89655172, 90.        ])"
      ]
     },
     "execution_count": 75,
     "metadata": {},
     "output_type": "execute_result"
    }
   ],
   "source": [
    "np.linspace(0,90,30)"
   ]
  },
  {
   "cell_type": "markdown",
   "metadata": {},
   "source": [
    "Diagonal N x N *np.eye(N)*"
   ]
  },
  {
   "cell_type": "code",
   "execution_count": 76,
   "metadata": {},
   "outputs": [
    {
     "data": {
      "text/plain": [
       "array([[1., 0., 0., 0., 0., 0., 0., 0., 0.],\n",
       "       [0., 1., 0., 0., 0., 0., 0., 0., 0.],\n",
       "       [0., 0., 1., 0., 0., 0., 0., 0., 0.],\n",
       "       [0., 0., 0., 1., 0., 0., 0., 0., 0.],\n",
       "       [0., 0., 0., 0., 1., 0., 0., 0., 0.],\n",
       "       [0., 0., 0., 0., 0., 1., 0., 0., 0.],\n",
       "       [0., 0., 0., 0., 0., 0., 1., 0., 0.],\n",
       "       [0., 0., 0., 0., 0., 0., 0., 1., 0.],\n",
       "       [0., 0., 0., 0., 0., 0., 0., 0., 1.]])"
      ]
     },
     "execution_count": 76,
     "metadata": {},
     "output_type": "execute_result"
    }
   ],
   "source": [
    "np.eye(9)"
   ]
  },
  {
   "cell_type": "markdown",
   "metadata": {},
   "source": [
    "### RAND\n",
    "Aleatoreos *np.random.rand()* cantidad N de numeros aleatorios en unarray *np.random.rand(N)*, por lo tanto para una matriz de N x M *np.random.rand(N,M)*"
   ]
  },
  {
   "cell_type": "code",
   "execution_count": 85,
   "metadata": {},
   "outputs": [
    {
     "name": "stdout",
     "output_type": "stream",
     "text": [
      "Escalar\n",
      "0.3369929164336821\n",
      "Array\n",
      "[0.90780632 0.48240453 0.72377591 0.54540246]\n",
      "Matriz\n",
      "[[0.15916701 0.77114359 0.80321677 0.86505962]\n",
      " [0.95400529 0.54394484 0.45980915 0.66339874]\n",
      " [0.23934975 0.22670494 0.33921944 0.17312405]]\n",
      "Tensor\n",
      "[[[0.60338604 0.62542923 0.21943967 0.14121809]\n",
      "  [0.27055767 0.35552943 0.92426877 0.48185539]\n",
      "  [0.68249222 0.895393   0.21711284 0.64036286]]\n",
      "\n",
      " [[0.55894316 0.38377953 0.42669412 0.70096672]\n",
      "  [0.64330164 0.87387639 0.75505117 0.36722024]\n",
      "  [0.55594821 0.98947707 0.06491592 0.08378238]]]\n"
     ]
    }
   ],
   "source": [
    "print(\"Escalar\")\n",
    "print(np.random.rand())\n",
    "print(\"Array\")\n",
    "print(np.random.rand(4))\n",
    "print(\"Matriz\")\n",
    "print(np.random.rand(3,4))\n",
    "print (\"Tensor\")\n",
    "print(np.random.rand(2,3,4))"
   ]
  },
  {
   "cell_type": "markdown",
   "metadata": {},
   "source": [
    "### RANDINT\n",
    "También existe *randint(n,m)* para generar un entero aleatorio entre un rango n y m."
   ]
  },
  {
   "cell_type": "code",
   "execution_count": 123,
   "metadata": {},
   "outputs": [
    {
     "name": "stdout",
     "output_type": "stream",
     "text": [
      "Desde 0 hasta un numero - positivos\n",
      "10\n",
      "Desde N hasta M\n",
      "-9\n"
     ]
    }
   ],
   "source": [
    "print(\"Desde 0 hasta un numero - positivos\")\n",
    "print(np.random.randint(15))\n",
    "print(\"Desde N hasta M\")\n",
    "print(np.random.randint(-12,12))"
   ]
  },
  {
   "cell_type": "markdown",
   "metadata": {},
   "source": [
    "Armar array con numeros enteros aleatorios de n a m, en una matriz de p filas por q columnas *np.random.randint(n,m,(p,q))*"
   ]
  },
  {
   "cell_type": "code",
   "execution_count": 126,
   "metadata": {},
   "outputs": [
    {
     "name": "stdout",
     "output_type": "stream",
     "text": [
      "[[[12 96  6  7 61 72]\n",
      "  [34 32 69 13 40 78]\n",
      "  [83 88  6 27 72 83]]\n",
      "\n",
      " [[55 21 37 96 35 52]\n",
      "  [37 90 94 66 58 41]\n",
      "  [11 18 68 48 10  7]]]\n"
     ]
    }
   ],
   "source": [
    "print(np.random.randint(3,99,(2,3,6)))"
   ]
  },
  {
   "cell_type": "markdown",
   "metadata": {},
   "source": [
    "#### CHOICE\n",
    "Selecciona aleatoreamente un elemento de una lista *arr* las veces *n* (solo selecciona 1 si no se coloca coma): np.random.choice(arr,n)"
   ]
  },
  {
   "cell_type": "code",
   "execution_count": 15,
   "metadata": {},
   "outputs": [
    {
     "data": {
      "text/plain": [
       "array(['Ramiro', 'Ramiro', 'Estefanía'], dtype='<U9')"
      ]
     },
     "execution_count": 15,
     "metadata": {},
     "output_type": "execute_result"
    }
   ],
   "source": [
    "lista_nombres = ([\"Marcos\",\"Pablo\",\"Andrea\",\"Julieta\",\"Analía\",\"Ramiro\", \"Estefanía\"])\n",
    "np.random.choice(lista_nombres,3)"
   ]
  },
  {
   "cell_type": "markdown",
   "metadata": {},
   "source": [
    "### ROUNT\n",
    "Para redondear *n* decimales los valores de una serie *arr* de decimales se utiliza np.rount(arr,n)"
   ]
  },
  {
   "cell_type": "code",
   "execution_count": 29,
   "metadata": {},
   "outputs": [
    {
     "name": "stdout",
     "output_type": "stream",
     "text": [
      "Sin redondear\n",
      "[ 0.         23.33333333 46.66666667 70.        ]\n",
      "Redondeado\n",
      "[ 0.    23.333 46.667 70.   ]\n"
     ]
    }
   ],
   "source": [
    "decimales= np.linspace(0,70,4)\n",
    "print(\"Sin redondear\")\n",
    "print(decimales)\n",
    "print(\"Redondeado\")\n",
    "print(np.round(decimales,3))\n"
   ]
  },
  {
   "cell_type": "markdown",
   "metadata": {},
   "source": [
    "## Shape y Reshape\n",
    "Devuelve las dimensiones y la cantidad de datos en cada dimensión"
   ]
  },
  {
   "cell_type": "code",
   "execution_count": 125,
   "metadata": {},
   "outputs": [
    {
     "name": "stdout",
     "output_type": "stream",
     "text": [
      "[[[ 6  8 15 12  8 21]\n",
      "  [24  6 17 24 26  3]]\n",
      "\n",
      " [[ 6 13  1  5 14 28]\n",
      "  [24 12  9  7  2 25]]\n",
      "\n",
      " [[ 4  6 22 22 16 19]\n",
      "  [14 20 16 21 10 19]]]\n",
      "(3, 2, 6)\n"
     ]
    }
   ],
   "source": [
    "arr=np.random.randint(1,30,(3,2,6))\n",
    "print(arr)\n",
    "print(arr.shape)"
   ]
  },
  {
   "cell_type": "markdown",
   "metadata": {},
   "source": [
    "Reshape cambia la estructura del arreglo, tener cuidado de no dejar datos afuera ni generar espacios vacíos"
   ]
  },
  {
   "cell_type": "code",
   "execution_count": 127,
   "metadata": {},
   "outputs": [
    {
     "name": "stdout",
     "output_type": "stream",
     "text": [
      "[[[ 6  8 15]\n",
      "  [12  8 21]\n",
      "  [24  6 17]\n",
      "  [24 26  3]\n",
      "  [ 6 13  1]\n",
      "  [ 5 14 28]]\n",
      "\n",
      " [[24 12  9]\n",
      "  [ 7  2 25]\n",
      "  [ 4  6 22]\n",
      "  [22 16 19]\n",
      "  [14 20 16]\n",
      "  [21 10 19]]]\n",
      "Con np\n",
      "[[[ 6  8 15 12  8 21]\n",
      "  [24  6 17 24 26  3]]\n",
      "\n",
      " [[ 6 13  1  5 14 28]\n",
      "  [24 12  9  7  2 25]]\n",
      "\n",
      " [[ 4  6 22 22 16 19]\n",
      "  [14 20 16 21 10 19]]]\n"
     ]
    }
   ],
   "source": [
    "rarr=arr.reshape(2,6,3)\n",
    "print(rarr)\n",
    "print(\"Con np\")\n",
    "connp=np.reshape(arr,(3,2,6))\n",
    "print(connp)"
   ]
  }
 ],
 "metadata": {
  "kernelspec": {
   "display_name": "Python 3",
   "language": "python",
   "name": "python3"
  },
  "language_info": {
   "codemirror_mode": {
    "name": "ipython",
    "version": 3
   },
   "file_extension": ".py",
   "mimetype": "text/x-python",
   "name": "python",
   "nbconvert_exporter": "python",
   "pygments_lexer": "ipython3",
   "version": "3.12.3"
  }
 },
 "nbformat": 4,
 "nbformat_minor": 2
}
