{
 "cells": [
  {
   "cell_type": "markdown",
   "metadata": {},
   "source": [
    "## Funciones Principales"
   ]
  },
  {
   "cell_type": "markdown",
   "metadata": {},
   "source": [
    "Generamos un vector de 30 valores del 3 al 30, y lo transformamos en una matriz de 5 x 6"
   ]
  },
  {
   "cell_type": "code",
   "execution_count": 2,
   "metadata": {},
   "outputs": [
    {
     "data": {
      "text/plain": [
       "array([[27, 29, 19, 14, 12, 20],\n",
       "       [17, 25,  4, 19, 21, 11],\n",
       "       [28, 12, 20, 11, 29, 19],\n",
       "       [25,  9, 29, 26,  8,  7],\n",
       "       [16, 18, 15, 18, 18,  8]])"
      ]
     },
     "execution_count": 2,
     "metadata": {},
     "output_type": "execute_result"
    }
   ],
   "source": [
    "import numpy as np\n",
    "vec=np.random.randint(3,30,30)\n",
    "matriz=vec.reshape(5,6)\n",
    "matriz"
   ]
  },
  {
   "cell_type": "markdown",
   "metadata": {},
   "source": [
    "**Buscar max / min**: maximo valor de la matriz *max()* y *min()*\n",
    "* sin argumentos entre parentesis, toma toda la matriz\n",
    "* con \"1\" en parentesis, busca los maximos de cada fila y devuelve una lista de maximos por fila\n",
    "* con \"0\" busca los maximos de cada columna y devuelve una lista de maximos por columna\n",
    "* para obtener el maximo de una fila n se coloca entre corchetes la fila[n]\n",
    "* para obtener el maximo de una columna se define la columna n como vector [:,n:n+1]"
   ]
  },
  {
   "cell_type": "code",
   "execution_count": 3,
   "metadata": {},
   "outputs": [
    {
     "name": "stdout",
     "output_type": "stream",
     "text": [
      "Maximo valor de la matriz\n",
      "29\n",
      "Máximos de cada columna\n",
      "[28 27 27 27 24 29]\n",
      "Máximos de cada fila\n",
      "[27 28 24 29 27]\n",
      "Mínimo de la fila 5\n",
      "5\n",
      "Mínimo de la columna 2\n",
      "3\n"
     ]
    }
   ],
   "source": [
    "print(\"Maximo valor de la matriz\")\n",
    "print(matriz.max())\n",
    "print(\"Máximos de cada columna\")\n",
    "print(matriz.max(0))\n",
    "print(\"Máximos de cada fila\")\n",
    "print(matriz.max(1))\n",
    "print(\"Mínimo de la fila 5\")\n",
    "print(matriz[4].min())\n",
    "print(\"Mínimo de la columna 2\")\n",
    "print(matriz[:,2:3].min())"
   ]
  },
  {
   "cell_type": "markdown",
   "metadata": {},
   "source": [
    "**Buscar indice de los max / min** *argmax()* *argmin()*\n",
    "\n",
    "Al igual que max o min, se utiliza argmax o argmin respectivamente"
   ]
  },
  {
   "cell_type": "code",
   "execution_count": 4,
   "metadata": {},
   "outputs": [
    {
     "name": "stdout",
     "output_type": "stream",
     "text": [
      "[[ 8 27 18 10 22 11]\n",
      " [28  9  3  9 10 19]\n",
      " [ 4  3 14 20 24 15]\n",
      " [18  3  3 21  6 29]\n",
      " [23  5 27 27 16 16]]\n",
      "Ubicación del minimo de la matriz\n",
      "8\n",
      "Ubicación de maximos por columnas\n",
      "[1 0 4 4 2 3]\n",
      "Ubicación de mínimos por filas\n",
      "[0 2 1 1 1]\n",
      "Ubicación del máximo de la segunda fila\n",
      "0\n",
      "Ubicación del mínimo de la tercer columna\n",
      "1\n"
     ]
    }
   ],
   "source": [
    "print(matriz)\n",
    "print(\"Ubicación del minimo de la matriz\")\n",
    "print(matriz.argmin())\n",
    "print(\"Ubicación de maximos por columnas\")\n",
    "print(matriz.argmax(0))\n",
    "print(\"Ubicación de mínimos por filas\")\n",
    "print(matriz.argmin(1))\n",
    "print(\"Ubicación del máximo de la segunda fila\")\n",
    "print(matriz[1].argmax())\n",
    "print(\"Ubicación del mínimo de la tercer columna\")\n",
    "print(matriz[:,2:3].argmin())"
   ]
  },
  {
   "cell_type": "markdown",
   "metadata": {},
   "source": [
    "El indice del primer máximo"
   ]
  },
  {
   "cell_type": "code",
   "execution_count": 3,
   "metadata": {},
   "outputs": [
    {
     "data": {
      "text/plain": [
       "5"
      ]
     },
     "execution_count": 3,
     "metadata": {},
     "output_type": "execute_result"
    }
   ],
   "source": [
    "lls=np.array([1,2,3,4,5,6,5,4,5,6])\n",
    "np.argmax(lls)"
   ]
  },
  {
   "cell_type": "markdown",
   "metadata": {},
   "source": [
    "**Amplitud** es la diferencia entre el maximo y el minimo la funcion es *ptp* (pic to pic)<br>\n",
    "De la misma manera que en para los casos de *max()* y *min()* se utiliza *.ptp()*"
   ]
  },
  {
   "cell_type": "code",
   "execution_count": 6,
   "metadata": {},
   "outputs": [
    {
     "name": "stdout",
     "output_type": "stream",
     "text": [
      "[[ 8 27 18 10 22 11]\n",
      " [28  9  3  9 10 19]\n",
      " [ 4  3 14 20 24 15]\n",
      " [18  3  3 21  6 29]\n",
      " [23  5 27 27 16 16]]\n",
      "Amplitud de toda la matriz\n",
      "26\n",
      "Amplitud por columnas\n",
      "[24 24 24 18 18 18]\n",
      "amplitud por filas\n",
      "[19 25 21 26 22]\n"
     ]
    }
   ],
   "source": [
    "print(matriz)\n",
    "print(\"Amplitud de toda la matriz\")\n",
    "print(matriz.ptp())\n",
    "print(\"Amplitud por columnas\")\n",
    "print(matriz.ptp(0))\n",
    "print(\"amplitud por filas\")\n",
    "print(matriz.ptp(1))"
   ]
  },
  {
   "cell_type": "markdown",
   "metadata": {},
   "source": [
    "**Percentil**(mediana) Devuelve valores en un determinado porcentage del total de valores\n",
    "* Percentil *P* del array *arr* : np.percentile(*arr*,*P*)\n",
    "\n",
    "**Mediana** es el percentil 50\n",
    "* np.median(*arr*)\n",
    "\n",
    "**Media** Promedio de la matriz\n",
    "*np.mean(*arr*)"
   ]
  },
  {
   "cell_type": "code",
   "execution_count": 26,
   "metadata": {},
   "outputs": [
    {
     "name": "stdout",
     "output_type": "stream",
     "text": [
      "8.25\n",
      "15.5\n",
      "14.933333333333334\n"
     ]
    }
   ],
   "source": [
    "print(np.percentile(matriz,25))\n",
    "print(np.median(matriz))\n",
    "print(np.mean(matriz))\n",
    "\n"
   ]
  },
  {
   "cell_type": "markdown",
   "metadata": {},
   "source": [
    "**Sort** ordena valores, sin modificador, ordena por fila, con \",0\" ordena por columna.\n",
    "* np.sort(*matriz*)\n",
    "\n",
    "**Desvío Estandar** Calcula el desvío estandar de la matriz, 0 por columnas y 1 por filas.\n",
    "* np.std(*matriz*)\n",
    "\n",
    "**Varianza** Calculo de varianza (cuadrado del devío estandar) modificado por 0 y 1.\n",
    "* np.var(*matriz)"
   ]
  },
  {
   "cell_type": "code",
   "execution_count": 23,
   "metadata": {},
   "outputs": [
    {
     "name": "stdout",
     "output_type": "stream",
     "text": [
      "[[ 8 27 18 10 22 11]\n",
      " [28  9  3  9 10 19]\n",
      " [ 4  3 14 20 24 15]\n",
      " [18  3  3 21  6 29]\n",
      " [23  5 27 27 16 16]]\n",
      "Sort\n",
      "[[ 8 10 11 18 22 27]\n",
      " [ 3  9  9 10 19 28]\n",
      " [ 3  4 14 15 20 24]\n",
      " [ 3  3  6 18 21 29]\n",
      " [ 5 16 16 23 27 27]]\n",
      "[[ 4  3  3  9  6 11]\n",
      " [ 8  3  3 10 10 15]\n",
      " [18  5 14 20 16 16]\n",
      " [23  9 18 21 22 19]\n",
      " [28 27 27 27 24 29]]\n",
      "[[ 8 10 11 18 22 27]\n",
      " [ 3  9  9 10 19 28]\n",
      " [ 3  4 14 15 20 24]\n",
      " [ 3  3  6 18 21 29]\n",
      " [ 5 16 16 23 27 27]]\n",
      "Std\n",
      "8.473225805769346\n",
      "[8.9977775  9.06862724 9.18694726 6.88767014 6.85857128 6.06630036]\n",
      "[6.90410506 8.18535277 7.69559759 9.94428926 7.72442015]\n",
      "var\n",
      "71.79555555555557\n",
      "[80.96 82.24 84.4  47.44 47.04 36.8 ]\n",
      "[47.66666667 67.         59.22222222 98.88888889 59.66666667]\n"
     ]
    }
   ],
   "source": [
    "print(matriz)\n",
    "print(\"Sort\")\n",
    "print(np.sort(matriz))\n",
    "print(np.sort(matriz,0))\n",
    "print(np.sort(matriz,1))\n",
    "print(\"Std\")\n",
    "print(np.std(matriz))\n",
    "print(np.std(matriz,0))\n",
    "print(np.std(matriz,1))\n",
    "print(\"var\")\n",
    "print(np.var(matriz))\n",
    "print(np.var(matriz,0))\n",
    "print(np.var(matriz,1))"
   ]
  },
  {
   "cell_type": "markdown",
   "metadata": {},
   "source": [
    "### Concatenar\n",
    "Para agregar valores al array vectores se utiliza, np.concatenate((arr1,arr2))\n",
    "\n",
    "Para arreglos de mas de una dimension se utiliza"
   ]
  },
  {
   "cell_type": "code",
   "execution_count": 63,
   "metadata": {},
   "outputs": [
    {
     "name": "stdout",
     "output_type": "stream",
     "text": [
      "2\n",
      "[[1 2]\n",
      " [3 4]]\n",
      "1\n",
      "[5 6]\n"
     ]
    },
    {
     "ename": "ValueError",
     "evalue": "all the input arrays must have same number of dimensions, but the array at index 0 has 2 dimension(s) and the array at index 1 has 1 dimension(s)",
     "output_type": "error",
     "traceback": [
      "\u001b[0;31m---------------------------------------------------------------------------\u001b[0m",
      "\u001b[0;31mValueError\u001b[0m                                Traceback (most recent call last)",
      "Cell \u001b[0;32mIn[63], line 7\u001b[0m\n\u001b[1;32m      5\u001b[0m \u001b[38;5;28mprint\u001b[39m(arr2\u001b[38;5;241m.\u001b[39mndim)\n\u001b[1;32m      6\u001b[0m \u001b[38;5;28mprint\u001b[39m(arr2)\n\u001b[0;32m----> 7\u001b[0m \u001b[38;5;28mprint\u001b[39m(\u001b[43mnp\u001b[49m\u001b[38;5;241;43m.\u001b[39;49m\u001b[43mconcatenate\u001b[49m\u001b[43m(\u001b[49m\u001b[43m(\u001b[49m\u001b[43marr1\u001b[49m\u001b[43m,\u001b[49m\u001b[43marr2\u001b[49m\u001b[43m)\u001b[49m\u001b[43m,\u001b[49m\u001b[43m \u001b[49m\u001b[43maxis\u001b[49m\u001b[38;5;241;43m=\u001b[39;49m\u001b[38;5;241;43m0\u001b[39;49m\u001b[43m)\u001b[49m)\n",
      "\u001b[0;31mValueError\u001b[0m: all the input arrays must have same number of dimensions, but the array at index 0 has 2 dimension(s) and the array at index 1 has 1 dimension(s)"
     ]
    }
   ],
   "source": [
    "arr1=np.array([[1,2],[3,4]])\n",
    "arr2=np.array([5,6])\n",
    "print(arr1.ndim)\n",
    "print(arr1)\n",
    "print(arr2.ndim)\n",
    "print(arr2)\n",
    "print(np.concatenate((arr1,arr2), axis=0))"
   ]
  },
  {
   "cell_type": "markdown",
   "metadata": {},
   "source": [
    "Para concatenar, ambos arreglos deben contenr las mismas dimensiones con np.expand_dims"
   ]
  },
  {
   "cell_type": "code",
   "execution_count": 64,
   "metadata": {},
   "outputs": [
    {
     "name": "stdout",
     "output_type": "stream",
     "text": [
      "[[1 2]\n",
      " [3 4]\n",
      " [5 6]]\n"
     ]
    }
   ],
   "source": [
    "arr2=np.expand_dims(arr2,axis=0)\n",
    "arr2\n",
    "print(np.concatenate((arr1,arr2), axis=0))"
   ]
  },
  {
   "cell_type": "markdown",
   "metadata": {},
   "source": [
    "Para agregar por columna de depe colocar la transpuesta. También se puede utilizar np.reshape()"
   ]
  },
  {
   "cell_type": "code",
   "execution_count": 66,
   "metadata": {},
   "outputs": [
    {
     "name": "stdout",
     "output_type": "stream",
     "text": [
      "[[1 2 5]\n",
      " [3 4 6]]\n"
     ]
    }
   ],
   "source": [
    "print(np.concatenate((arr1,arr2.T),axis=1))"
   ]
  },
  {
   "cell_type": "markdown",
   "metadata": {},
   "source": [
    "https://numpy.org/doc/stable/reference/routines.statistics.html\n",
    "Manual oficial de las funciones estadísticas"
   ]
  },
  {
   "cell_type": "markdown",
   "metadata": {},
   "source": [
    "### Split\n",
    "Divide array *arr* en *N* arrays np.array_split(arr, N)"
   ]
  },
  {
   "cell_type": "code",
   "execution_count": 8,
   "metadata": {},
   "outputs": [
    {
     "name": "stdout",
     "output_type": "stream",
     "text": [
      "[1 2 3 4 5 6 5 4 5 6]\n",
      "[array([1, 2, 3, 4]), array([5, 6, 5]), array([4, 5, 6])]\n"
     ]
    }
   ],
   "source": [
    "print(lls)\n",
    "print(np.array_split(lls,3))"
   ]
  },
  {
   "cell_type": "markdown",
   "metadata": {},
   "source": [
    "### Where\n",
    "Nos devuelve los índices de los valores que cumplen con una condición"
   ]
  },
  {
   "cell_type": "code",
   "execution_count": 29,
   "metadata": {},
   "outputs": [
    {
     "name": "stdout",
     "output_type": "stream",
     "text": [
      "[1 2 3 4 5 6 5 4 5 6]\n",
      "(array([4, 5, 6, 8, 9]),)\n",
      "[['1' 'menor']\n",
      " ['2' 'menor']\n",
      " ['3' 'menor']\n",
      " ['4' 'menor']\n",
      " ['5' 'mayor']\n",
      " ['6' 'mayor']\n",
      " ['5' 'mayor']\n",
      " ['4' 'menor']\n",
      " ['5' 'mayor']\n",
      " ['6' 'mayor']]\n"
     ]
    }
   ],
   "source": [
    "lls=np.array([1,2,3,4,5,6,5,4,5,6])\n",
    "print(lls)\n",
    "mas4 = np.where(lls>4)\n",
    "print(mas4)\n",
    "mas=([\"mayor\",\"mayor\",\"mayor\",\"mayor\",\"mayor\",\"mayor\",\"mayor\",\"mayor\",\"mayor\",\"mayor\"])\n",
    "menos=([\"menor\",\"menor\",\"menor\",\"menor\",\"menor\",\"menor\",\"menor\",\"menor\",\"menor\",\"menor\"])\n",
    "condicion=lls>4\n",
    "lista=np.where(condicion,mas,menos)\n",
    "lls=np.expand_dims(lls,axis=0)\n",
    "lista=np.expand_dims(lista,axis=0)\n",
    "nuevalista=np.concatenate((lls,lista),axis=0)\n",
    "print(nuevalista.T)\n"
   ]
  }
 ],
 "metadata": {
  "kernelspec": {
   "display_name": "Python 3",
   "language": "python",
   "name": "python3"
  },
  "language_info": {
   "codemirror_mode": {
    "name": "ipython",
    "version": 3
   },
   "file_extension": ".py",
   "mimetype": "text/x-python",
   "name": "python",
   "nbconvert_exporter": "python",
   "pygments_lexer": "ipython3",
   "version": "3.12.3"
  }
 },
 "nbformat": 4,
 "nbformat_minor": 2
}
