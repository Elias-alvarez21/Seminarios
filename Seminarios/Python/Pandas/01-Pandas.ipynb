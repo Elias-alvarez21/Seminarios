{
 "cells": [
  {
   "cell_type": "markdown",
   "metadata": {},
   "source": [
    "# PANDAS\n",
    "Se importa con *import pandas as pd*\n",
    "\n",
    "* Pandas trabaja con diccionarios o listas, es conocido como el Excel de Python, esta dirijido al tratamiento de datos en tablas.\n",
    "* Los principales elementos son :\n",
    "    * ***Data Frame*** se declara con *pd.DataFrame*\n",
    "    * ***Series*** se declara con *pd.Series*"
   ]
  },
  {
   "cell_type": "code",
   "execution_count": 2,
   "metadata": {},
   "outputs": [
    {
     "data": {
      "text/html": [
       "<div>\n",
       "<style scoped>\n",
       "    .dataframe tbody tr th:only-of-type {\n",
       "        vertical-align: middle;\n",
       "    }\n",
       "\n",
       "    .dataframe tbody tr th {\n",
       "        vertical-align: top;\n",
       "    }\n",
       "\n",
       "    .dataframe thead th {\n",
       "        text-align: right;\n",
       "    }\n",
       "</style>\n",
       "<table border=\"1\" class=\"dataframe\">\n",
       "  <thead>\n",
       "    <tr style=\"text-align: right;\">\n",
       "      <th></th>\n",
       "      <th>nombre</th>\n",
       "      <th>edad</th>\n",
       "      <th>dni</th>\n",
       "    </tr>\n",
       "  </thead>\n",
       "  <tbody>\n",
       "    <tr>\n",
       "      <th>0</th>\n",
       "      <td>María</td>\n",
       "      <td>28</td>\n",
       "      <td>42464548</td>\n",
       "    </tr>\n",
       "    <tr>\n",
       "      <th>1</th>\n",
       "      <td>Julián</td>\n",
       "      <td>30</td>\n",
       "      <td>40687879</td>\n",
       "    </tr>\n",
       "    <tr>\n",
       "      <th>2</th>\n",
       "      <td>Ana</td>\n",
       "      <td>25</td>\n",
       "      <td>48990075</td>\n",
       "    </tr>\n",
       "  </tbody>\n",
       "</table>\n",
       "</div>"
      ],
      "text/plain": [
       "   nombre  edad       dni\n",
       "0   María    28  42464548\n",
       "1  Julián    30  40687879\n",
       "2     Ana    25  48990075"
      ]
     },
     "execution_count": 2,
     "metadata": {},
     "output_type": "execute_result"
    }
   ],
   "source": [
    "import pandas as pd\n",
    "mi_dic={\n",
    "    \"nombre\":[\"María\",\"Julián\",\"Ana\"],\n",
    "    \"edad\" : [28,30,25],\n",
    "    \"dni\" : [42464548,40687879,48990075]\n",
    "}\n",
    "dic=pd.DataFrame(mi_dic)\n",
    "dic"
   ]
  },
  {
   "cell_type": "code",
   "execution_count": 3,
   "metadata": {},
   "outputs": [
    {
     "data": {
      "text/plain": [
       "0     María\n",
       "1    Julián\n",
       "2       Ana\n",
       "Name: nombre, dtype: object"
      ]
     },
     "execution_count": 3,
     "metadata": {},
     "output_type": "execute_result"
    }
   ],
   "source": [
    "dic[\"nombre\"]"
   ]
  },
  {
   "cell_type": "markdown",
   "metadata": {},
   "source": [
    "Las series es considerada como una columna y son indexables"
   ]
  },
  {
   "cell_type": "code",
   "execution_count": 4,
   "metadata": {},
   "outputs": [
    {
     "name": "stdout",
     "output_type": "stream",
     "text": [
      "0    Argentina\n",
      "1      Uruguay\n",
      "2         Perú\n",
      "3        Chile\n",
      "4      Bolivia\n",
      "5      Ecuador\n",
      "6    Venezuela\n",
      "dtype: object\n",
      "2       Perú\n",
      "3      Chile\n",
      "4    Bolivia\n",
      "dtype: object\n"
     ]
    }
   ],
   "source": [
    "serie=pd.Series([\"Argentina\",\"Uruguay\",\"Perú\",\"Chile\",\"Bolivia\",\"Ecuador\",\"Venezuela\"])\n",
    "print(serie)\n",
    "print(serie[2:5])"
   ]
  },
  {
   "cell_type": "markdown",
   "metadata": {},
   "source": [
    "Se pueden asignar índices a cada elemento y llamarlo por ese índice o etiqueta, debe tener tantas etiquetas como elementos decladados."
   ]
  },
  {
   "cell_type": "code",
   "execution_count": 5,
   "metadata": {},
   "outputs": [
    {
     "name": "stdout",
     "output_type": "stream",
     "text": [
      "A     Argentina\n",
      "Ur      Uruguay\n",
      "P          Perú\n",
      "C         Chile\n",
      "B       Bolivia\n",
      "E       Ecuador\n",
      "V     Venezuela\n",
      "dtype: object\n",
      "Uruguay\n"
     ]
    }
   ],
   "source": [
    "serie1=pd.Series([\"Argentina\",\"Uruguay\",\"Perú\",\"Chile\",\"Bolivia\",\"Ecuador\",\"Venezuela\"], index=[\"A\",\"Ur\",\"P\",\"C\",\"B\",\"E\",\"V\"])\n",
    "print(serie1)\n",
    "print(serie1[\"Ur\"])"
   ]
  },
  {
   "cell_type": "markdown",
   "metadata": {},
   "source": [
    "Pueden definirse las series con un diccionario, y tomar la clabe como el indice y el valor como tal."
   ]
  },
  {
   "cell_type": "code",
   "execution_count": 6,
   "metadata": {},
   "outputs": [
    {
     "data": {
      "text/plain": [
       "P          PerúPerú\n",
       "B    BoliviaBolivia\n",
       "dtype: object"
      ]
     },
     "execution_count": 6,
     "metadata": {},
     "output_type": "execute_result"
    }
   ],
   "source": [
    "serie1[[\"P\",\"B\"]] * 2"
   ]
  },
  {
   "cell_type": "code",
   "execution_count": 7,
   "metadata": {},
   "outputs": [
    {
     "data": {
      "text/plain": [
       "P       Perú\n",
       "C      Chile\n",
       "B    Bolivia\n",
       "dtype: object"
      ]
     },
     "execution_count": 7,
     "metadata": {},
     "output_type": "execute_result"
    }
   ],
   "source": [
    "serie1[2:5]"
   ]
  },
  {
   "cell_type": "markdown",
   "metadata": {},
   "source": [
    "### Seties a partir de Diccionarios\n",
    "* Las series pueden declararse a partir de diccionarios donde la clave es el índice que toma el valor correspondiente."
   ]
  },
  {
   "cell_type": "code",
   "execution_count": 8,
   "metadata": {},
   "outputs": [
    {
     "name": "stdout",
     "output_type": "stream",
     "text": [
      "A    Argentina\n",
      "U      Uruguar\n",
      "P         Perú\n",
      "C        Chile\n",
      "B      Bolivia\n",
      "E      Ecuador\n",
      "V    Venezuela\n",
      "dtype: object\n"
     ]
    }
   ],
   "source": [
    "dic0={\"A\": 'Argentina',\"U\": 'Uruguar',\"P\": 'Perú',\"C\":\"Chile\",\"B\": \"Bolivia\",\"E\": \"Ecuador\",\"V\": \"Venezuela\"}\n",
    "serie2=pd.Series(dic0)\n",
    "print(serie2)"
   ]
  },
  {
   "cell_type": "markdown",
   "metadata": {},
   "source": [
    "## Filtrar, operación lógica\n",
    "* Para filtrar las filas según un criterio se coloca el criterio entre corchetes:"
   ]
  },
  {
   "cell_type": "code",
   "execution_count": 9,
   "metadata": {},
   "outputs": [
    {
     "data": {
      "text/plain": [
       "U      Uruguar\n",
       "P         Perú\n",
       "E      Ecuador\n",
       "V    Venezuela\n",
       "dtype: object"
      ]
     },
     "execution_count": 9,
     "metadata": {},
     "output_type": "execute_result"
    }
   ],
   "source": [
    "serie2[serie2 > \"D\"]"
   ]
  },
  {
   "cell_type": "markdown",
   "metadata": {},
   "source": [
    "## Ordenar\n",
    "* Una serie puede ordenarse por valores con .sort_values()"
   ]
  },
  {
   "cell_type": "code",
   "execution_count": 11,
   "metadata": {},
   "outputs": [
    {
     "data": {
      "text/plain": [
       "A    Argentina\n",
       "B      Bolivia\n",
       "C        Chile\n",
       "E      Ecuador\n",
       "P         Perú\n",
       "U      Uruguar\n",
       "V    Venezuela\n",
       "dtype: object"
      ]
     },
     "execution_count": 11,
     "metadata": {},
     "output_type": "execute_result"
    }
   ],
   "source": [
    "serie2.sort_values()"
   ]
  },
  {
   "cell_type": "markdown",
   "metadata": {},
   "source": [
    "* Para ordenar por los índices se utiliza .sort_index()\n",
    "* También se puede ordenar descendentemente con el atributo ascending=False dentro del paréntesis"
   ]
  },
  {
   "cell_type": "code",
   "execution_count": 10,
   "metadata": {},
   "outputs": [
    {
     "data": {
      "text/plain": [
       "V    Venezuela\n",
       "U      Uruguar\n",
       "P         Perú\n",
       "E      Ecuador\n",
       "C        Chile\n",
       "B      Bolivia\n",
       "A    Argentina\n",
       "dtype: object"
      ]
     },
     "execution_count": 10,
     "metadata": {},
     "output_type": "execute_result"
    }
   ],
   "source": [
    "serie2.sort_index(ascending=False)"
   ]
  },
  {
   "cell_type": "markdown",
   "metadata": {},
   "source": [
    "# Funciones de las series:\n",
    "* Size: cantidad de registros\n",
    "* Index: Nombre de los índices"
   ]
  },
  {
   "cell_type": "code",
   "execution_count": 11,
   "metadata": {},
   "outputs": [
    {
     "name": "stdout",
     "output_type": "stream",
     "text": [
      "7\n",
      "Index(['A', 'U', 'P', 'C', 'B', 'E', 'V'], dtype='object')\n"
     ]
    }
   ],
   "source": [
    "print(serie2.size)\n",
    "print(serie2.index)"
   ]
  },
  {
   "cell_type": "markdown",
   "metadata": {},
   "source": [
    "## Generar series con datos escalares\n",
    "* Se puede generar una serie con datos fijos para reservar espacios"
   ]
  },
  {
   "cell_type": "code",
   "execution_count": 12,
   "metadata": {},
   "outputs": [
    {
     "data": {
      "text/plain": [
       "0     0\n",
       "1     0\n",
       "88    0\n",
       "89    0\n",
       "90    0\n",
       "dtype: int64"
      ]
     },
     "execution_count": 12,
     "metadata": {},
     "output_type": "execute_result"
    }
   ],
   "source": [
    "dato = 0\n",
    "serieE = pd.Series(dato, index=[0,1,88,89,90])\n",
    "serieE"
   ]
  },
  {
   "cell_type": "markdown",
   "metadata": {},
   "source": [
    "## Armar Series\n",
    "* Con valores e índices separados es posible indexar lista de datos con otra lista al momento de definirla con Pandas"
   ]
  },
  {
   "cell_type": "code",
   "execution_count": 13,
   "metadata": {},
   "outputs": [
    {
     "data": {
      "text/plain": [
       "Colombia      51.87\n",
       "Argentina     46.23\n",
       "Chile         19.60\n",
       "Perú          34.05\n",
       "Bolivia       12.22\n",
       "Brasil       215.30\n",
       "dtype: float64"
      ]
     },
     "execution_count": 13,
     "metadata": {},
     "output_type": "execute_result"
    }
   ],
   "source": [
    "pbl = [51.87,46.23,19.6,34.05,12.22,215.3]\n",
    "paises = [\"Colombia\",\"Argentina\",\"Chile\",\"Perú\",\"Bolivia\",\"Brasil\"]\n",
    "serieP=pd.Series(index=paises,data=pbl)\n",
    "serieP"
   ]
  },
  {
   "cell_type": "code",
   "execution_count": 47,
   "metadata": {},
   "outputs": [
    {
     "data": {
      "text/plain": [
       "Brasil       215.30\n",
       "Colombia      51.87\n",
       "Argentina     46.23\n",
       "Perú          34.05\n",
       "Chile         19.60\n",
       "Bolivia       12.22\n",
       "dtype: float64"
      ]
     },
     "execution_count": 47,
     "metadata": {},
     "output_type": "execute_result"
    }
   ],
   "source": [
    "serieP.sort_values(ascending=False)"
   ]
  },
  {
   "cell_type": "markdown",
   "metadata": {},
   "source": [
    "# Generar DataFrames\n",
    "Los data frames pueden generarse desde:\n",
    "* Diccionario\n",
    "* Lista\n",
    "* Desde NumPy"
   ]
  },
  {
   "cell_type": "code",
   "execution_count": 14,
   "metadata": {},
   "outputs": [
    {
     "data": {
      "text/html": [
       "<div>\n",
       "<style scoped>\n",
       "    .dataframe tbody tr th:only-of-type {\n",
       "        vertical-align: middle;\n",
       "    }\n",
       "\n",
       "    .dataframe tbody tr th {\n",
       "        vertical-align: top;\n",
       "    }\n",
       "\n",
       "    .dataframe thead th {\n",
       "        text-align: right;\n",
       "    }\n",
       "</style>\n",
       "<table border=\"1\" class=\"dataframe\">\n",
       "  <thead>\n",
       "    <tr style=\"text-align: right;\">\n",
       "      <th></th>\n",
       "      <th>nombre</th>\n",
       "      <th>edad</th>\n",
       "      <th>dni</th>\n",
       "    </tr>\n",
       "  </thead>\n",
       "  <tbody>\n",
       "    <tr>\n",
       "      <th>0</th>\n",
       "      <td>María</td>\n",
       "      <td>28</td>\n",
       "      <td>42464548</td>\n",
       "    </tr>\n",
       "    <tr>\n",
       "      <th>1</th>\n",
       "      <td>Julián</td>\n",
       "      <td>30</td>\n",
       "      <td>40687879</td>\n",
       "    </tr>\n",
       "    <tr>\n",
       "      <th>2</th>\n",
       "      <td>Ana</td>\n",
       "      <td>25</td>\n",
       "      <td>48990075</td>\n",
       "    </tr>\n",
       "  </tbody>\n",
       "</table>\n",
       "</div>"
      ],
      "text/plain": [
       "   nombre  edad       dni\n",
       "0   María    28  42464548\n",
       "1  Julián    30  40687879\n",
       "2     Ana    25  48990075"
      ]
     },
     "execution_count": 14,
     "metadata": {},
     "output_type": "execute_result"
    }
   ],
   "source": [
    "# Diccionario\n",
    "dic=pd.DataFrame({\n",
    "    \"nombre\":[\"María\",\"Julián\",\"Ana\"],\n",
    "    \"edad\" : [28,30,25],\n",
    "    \"dni\" : [42464548,40687879,48990075]\n",
    "})\n",
    "dic"
   ]
  },
  {
   "cell_type": "code",
   "execution_count": 15,
   "metadata": {},
   "outputs": [
    {
     "data": {
      "text/html": [
       "<div>\n",
       "<style scoped>\n",
       "    .dataframe tbody tr th:only-of-type {\n",
       "        vertical-align: middle;\n",
       "    }\n",
       "\n",
       "    .dataframe tbody tr th {\n",
       "        vertical-align: top;\n",
       "    }\n",
       "\n",
       "    .dataframe thead th {\n",
       "        text-align: right;\n",
       "    }\n",
       "</style>\n",
       "<table border=\"1\" class=\"dataframe\">\n",
       "  <thead>\n",
       "    <tr style=\"text-align: right;\">\n",
       "      <th></th>\n",
       "      <th>Nombre</th>\n",
       "      <th>Edad</th>\n",
       "      <th>DNI</th>\n",
       "    </tr>\n",
       "  </thead>\n",
       "  <tbody>\n",
       "    <tr>\n",
       "      <th>0</th>\n",
       "      <td>María</td>\n",
       "      <td>28</td>\n",
       "      <td>42464548</td>\n",
       "    </tr>\n",
       "    <tr>\n",
       "      <th>1</th>\n",
       "      <td>Julián</td>\n",
       "      <td>30</td>\n",
       "      <td>40687879</td>\n",
       "    </tr>\n",
       "    <tr>\n",
       "      <th>2</th>\n",
       "      <td>Ana</td>\n",
       "      <td>25</td>\n",
       "      <td>48990075</td>\n",
       "    </tr>\n",
       "  </tbody>\n",
       "</table>\n",
       "</div>"
      ],
      "text/plain": [
       "   Nombre  Edad       DNI\n",
       "0   María    28  42464548\n",
       "1  Julián    30  40687879\n",
       "2     Ana    25  48990075"
      ]
     },
     "execution_count": 15,
     "metadata": {},
     "output_type": "execute_result"
    }
   ],
   "source": [
    "# Lista\n",
    "lista = pd.DataFrame([[\"María\",28,42464548],[\"Julián\",30,40687879],[\"Ana\",25,48990075]], columns=[\"Nombre\",\"Edad\",\"DNI\"])\n",
    "lista"
   ]
  },
  {
   "cell_type": "code",
   "execution_count": 16,
   "metadata": {},
   "outputs": [
    {
     "data": {
      "text/html": [
       "<div>\n",
       "<style scoped>\n",
       "    .dataframe tbody tr th:only-of-type {\n",
       "        vertical-align: middle;\n",
       "    }\n",
       "\n",
       "    .dataframe tbody tr th {\n",
       "        vertical-align: top;\n",
       "    }\n",
       "\n",
       "    .dataframe thead th {\n",
       "        text-align: right;\n",
       "    }\n",
       "</style>\n",
       "<table border=\"1\" class=\"dataframe\">\n",
       "  <thead>\n",
       "    <tr style=\"text-align: right;\">\n",
       "      <th></th>\n",
       "      <th>Ene</th>\n",
       "      <th>Feb</th>\n",
       "      <th>Mar</th>\n",
       "    </tr>\n",
       "  </thead>\n",
       "  <tbody>\n",
       "    <tr>\n",
       "      <th>0</th>\n",
       "      <td>5</td>\n",
       "      <td>6</td>\n",
       "      <td>8</td>\n",
       "    </tr>\n",
       "    <tr>\n",
       "      <th>1</th>\n",
       "      <td>7</td>\n",
       "      <td>10</td>\n",
       "      <td>7</td>\n",
       "    </tr>\n",
       "    <tr>\n",
       "      <th>2</th>\n",
       "      <td>5</td>\n",
       "      <td>8</td>\n",
       "      <td>8</td>\n",
       "    </tr>\n",
       "  </tbody>\n",
       "</table>\n",
       "</div>"
      ],
      "text/plain": [
       "   Ene  Feb  Mar\n",
       "0    5    6    8\n",
       "1    7   10    7\n",
       "2    5    8    8"
      ]
     },
     "execution_count": 16,
     "metadata": {},
     "output_type": "execute_result"
    }
   ],
   "source": [
    "# Desde Numpy\n",
    "import numpy as np\n",
    "npy = pd.DataFrame(np.random.randint(5,11,(3,3)), columns=[\"Ene\",\"Feb\",\"Mar\"])\n",
    "npy"
   ]
  },
  {
   "cell_type": "markdown",
   "metadata": {},
   "source": [
    "### Agregar Columnas"
   ]
  },
  {
   "cell_type": "markdown",
   "metadata": {},
   "source": [
    "* *dataframe*[\" *columna* \"] = pd.Serie()\n",
    "\n",
    "Se agrega una columna con el nombre entre corchetes de una sierie de panda."
   ]
  },
  {
   "cell_type": "code",
   "execution_count": 48,
   "metadata": {},
   "outputs": [
    {
     "data": {
      "text/html": [
       "<div>\n",
       "<style scoped>\n",
       "    .dataframe tbody tr th:only-of-type {\n",
       "        vertical-align: middle;\n",
       "    }\n",
       "\n",
       "    .dataframe tbody tr th {\n",
       "        vertical-align: top;\n",
       "    }\n",
       "\n",
       "    .dataframe thead th {\n",
       "        text-align: right;\n",
       "    }\n",
       "</style>\n",
       "<table border=\"1\" class=\"dataframe\">\n",
       "  <thead>\n",
       "    <tr style=\"text-align: right;\">\n",
       "      <th></th>\n",
       "      <th>Nombre</th>\n",
       "      <th>Edad</th>\n",
       "      <th>DNI</th>\n",
       "      <th>Random</th>\n",
       "    </tr>\n",
       "  </thead>\n",
       "  <tbody>\n",
       "    <tr>\n",
       "      <th>0</th>\n",
       "      <td>María</td>\n",
       "      <td>28</td>\n",
       "      <td>42464548</td>\n",
       "      <td>312.0</td>\n",
       "    </tr>\n",
       "    <tr>\n",
       "      <th>1</th>\n",
       "      <td>Julián</td>\n",
       "      <td>30</td>\n",
       "      <td>40687879</td>\n",
       "      <td>NaN</td>\n",
       "    </tr>\n",
       "    <tr>\n",
       "      <th>2</th>\n",
       "      <td>Ana</td>\n",
       "      <td>25</td>\n",
       "      <td>48990075</td>\n",
       "      <td>335.0</td>\n",
       "    </tr>\n",
       "  </tbody>\n",
       "</table>\n",
       "</div>"
      ],
      "text/plain": [
       "   Nombre  Edad       DNI  Random\n",
       "0   María    28  42464548   312.0\n",
       "1  Julián    30  40687879     NaN\n",
       "2     Ana    25  48990075   335.0"
      ]
     },
     "execution_count": 48,
     "metadata": {},
     "output_type": "execute_result"
    }
   ],
   "source": [
    "lista[\"Random\"] = pd.Series(np.random.randint(300,400,2), index=(0,2))\n",
    "lista"
   ]
  },
  {
   "cell_type": "markdown",
   "metadata": {},
   "source": [
    "* .concat()\n",
    "\n",
    "Para concatenar DF1 y DF2 Se utiliza concat((DF1,DF2)) por defecto agrega filas (axis=0) y agrega columnas que no estén incluidas en los dos data frames, para agergar a las mismas filas se utiliza axis=1"
   ]
  },
  {
   "cell_type": "code",
   "execution_count": 51,
   "metadata": {},
   "outputs": [
    {
     "data": {
      "text/html": [
       "<div>\n",
       "<style scoped>\n",
       "    .dataframe tbody tr th:only-of-type {\n",
       "        vertical-align: middle;\n",
       "    }\n",
       "\n",
       "    .dataframe tbody tr th {\n",
       "        vertical-align: top;\n",
       "    }\n",
       "\n",
       "    .dataframe thead th {\n",
       "        text-align: right;\n",
       "    }\n",
       "</style>\n",
       "<table border=\"1\" class=\"dataframe\">\n",
       "  <thead>\n",
       "    <tr style=\"text-align: right;\">\n",
       "      <th></th>\n",
       "      <th>Nombre</th>\n",
       "      <th>Edad</th>\n",
       "      <th>DNI</th>\n",
       "      <th>Random</th>\n",
       "      <th>Ene</th>\n",
       "      <th>Feb</th>\n",
       "      <th>Mar</th>\n",
       "    </tr>\n",
       "  </thead>\n",
       "  <tbody>\n",
       "    <tr>\n",
       "      <th>0</th>\n",
       "      <td>María</td>\n",
       "      <td>28</td>\n",
       "      <td>42464548</td>\n",
       "      <td>312.0</td>\n",
       "      <td>5</td>\n",
       "      <td>6</td>\n",
       "      <td>8</td>\n",
       "    </tr>\n",
       "    <tr>\n",
       "      <th>1</th>\n",
       "      <td>Julián</td>\n",
       "      <td>30</td>\n",
       "      <td>40687879</td>\n",
       "      <td>NaN</td>\n",
       "      <td>7</td>\n",
       "      <td>10</td>\n",
       "      <td>7</td>\n",
       "    </tr>\n",
       "    <tr>\n",
       "      <th>2</th>\n",
       "      <td>Ana</td>\n",
       "      <td>25</td>\n",
       "      <td>48990075</td>\n",
       "      <td>335.0</td>\n",
       "      <td>5</td>\n",
       "      <td>8</td>\n",
       "      <td>8</td>\n",
       "    </tr>\n",
       "  </tbody>\n",
       "</table>\n",
       "</div>"
      ],
      "text/plain": [
       "   Nombre  Edad       DNI  Random  Ene  Feb  Mar\n",
       "0   María    28  42464548   312.0    5    6    8\n",
       "1  Julián    30  40687879     NaN    7   10    7\n",
       "2     Ana    25  48990075   335.0    5    8    8"
      ]
     },
     "execution_count": 51,
     "metadata": {},
     "output_type": "execute_result"
    }
   ],
   "source": [
    "nlista1=pd.concat((lista,npy),axis=1)\n",
    "nlista1"
   ]
  },
  {
   "cell_type": "markdown",
   "metadata": {},
   "source": [
    "Eliminar columna *col* del dataframe *df* df.pop('col')"
   ]
  },
  {
   "cell_type": "code",
   "execution_count": 52,
   "metadata": {},
   "outputs": [
    {
     "data": {
      "text/html": [
       "<div>\n",
       "<style scoped>\n",
       "    .dataframe tbody tr th:only-of-type {\n",
       "        vertical-align: middle;\n",
       "    }\n",
       "\n",
       "    .dataframe tbody tr th {\n",
       "        vertical-align: top;\n",
       "    }\n",
       "\n",
       "    .dataframe thead th {\n",
       "        text-align: right;\n",
       "    }\n",
       "</style>\n",
       "<table border=\"1\" class=\"dataframe\">\n",
       "  <thead>\n",
       "    <tr style=\"text-align: right;\">\n",
       "      <th></th>\n",
       "      <th>Nombre</th>\n",
       "      <th>Edad</th>\n",
       "      <th>DNI</th>\n",
       "      <th>Random</th>\n",
       "      <th>Ene</th>\n",
       "      <th>Mar</th>\n",
       "    </tr>\n",
       "  </thead>\n",
       "  <tbody>\n",
       "    <tr>\n",
       "      <th>0</th>\n",
       "      <td>María</td>\n",
       "      <td>28</td>\n",
       "      <td>42464548</td>\n",
       "      <td>312.0</td>\n",
       "      <td>5</td>\n",
       "      <td>8</td>\n",
       "    </tr>\n",
       "    <tr>\n",
       "      <th>1</th>\n",
       "      <td>Julián</td>\n",
       "      <td>30</td>\n",
       "      <td>40687879</td>\n",
       "      <td>NaN</td>\n",
       "      <td>7</td>\n",
       "      <td>7</td>\n",
       "    </tr>\n",
       "    <tr>\n",
       "      <th>2</th>\n",
       "      <td>Ana</td>\n",
       "      <td>25</td>\n",
       "      <td>48990075</td>\n",
       "      <td>335.0</td>\n",
       "      <td>5</td>\n",
       "      <td>8</td>\n",
       "    </tr>\n",
       "  </tbody>\n",
       "</table>\n",
       "</div>"
      ],
      "text/plain": [
       "   Nombre  Edad       DNI  Random  Ene  Mar\n",
       "0   María    28  42464548   312.0    5    8\n",
       "1  Julián    30  40687879     NaN    7    7\n",
       "2     Ana    25  48990075   335.0    5    8"
      ]
     },
     "execution_count": 52,
     "metadata": {},
     "output_type": "execute_result"
    }
   ],
   "source": [
    "nlista1.pop('Feb')\n",
    "nlista1"
   ]
  },
  {
   "cell_type": "markdown",
   "metadata": {},
   "source": [
    "Agregar filas con al data frame *df* en el índice *n* los datos a, b y c con df.loc[n]=[\"a\",\"b\",\"c\"]<br>\n",
    "Si el índice *n* existe, será sobreescrito, y si falta algún dato para alguna columna, dará error"
   ]
  },
  {
   "cell_type": "code",
   "execution_count": 53,
   "metadata": {},
   "outputs": [
    {
     "data": {
      "text/html": [
       "<div>\n",
       "<style scoped>\n",
       "    .dataframe tbody tr th:only-of-type {\n",
       "        vertical-align: middle;\n",
       "    }\n",
       "\n",
       "    .dataframe tbody tr th {\n",
       "        vertical-align: top;\n",
       "    }\n",
       "\n",
       "    .dataframe thead th {\n",
       "        text-align: right;\n",
       "    }\n",
       "</style>\n",
       "<table border=\"1\" class=\"dataframe\">\n",
       "  <thead>\n",
       "    <tr style=\"text-align: right;\">\n",
       "      <th></th>\n",
       "      <th>Nombre</th>\n",
       "      <th>Edad</th>\n",
       "      <th>DNI</th>\n",
       "      <th>Random</th>\n",
       "      <th>Ene</th>\n",
       "      <th>Mar</th>\n",
       "    </tr>\n",
       "  </thead>\n",
       "  <tbody>\n",
       "    <tr>\n",
       "      <th>0</th>\n",
       "      <td>María</td>\n",
       "      <td>28</td>\n",
       "      <td>42464548</td>\n",
       "      <td>312.0</td>\n",
       "      <td>5</td>\n",
       "      <td>8</td>\n",
       "    </tr>\n",
       "    <tr>\n",
       "      <th>1</th>\n",
       "      <td>Julián</td>\n",
       "      <td>30</td>\n",
       "      <td>40687879</td>\n",
       "      <td>NaN</td>\n",
       "      <td>7</td>\n",
       "      <td>7</td>\n",
       "    </tr>\n",
       "    <tr>\n",
       "      <th>2</th>\n",
       "      <td>julio</td>\n",
       "      <td>15</td>\n",
       "      <td>50444555</td>\n",
       "      <td>500.0</td>\n",
       "      <td>8</td>\n",
       "      <td>3</td>\n",
       "    </tr>\n",
       "  </tbody>\n",
       "</table>\n",
       "</div>"
      ],
      "text/plain": [
       "   Nombre  Edad       DNI  Random  Ene  Mar\n",
       "0   María    28  42464548   312.0    5    8\n",
       "1  Julián    30  40687879     NaN    7    7\n",
       "2   julio    15  50444555   500.0    8    3"
      ]
     },
     "execution_count": 53,
     "metadata": {},
     "output_type": "execute_result"
    }
   ],
   "source": [
    "nlista1.loc[2] = [\"julio\",15,50444555,500,8,3]\n",
    "nlista1"
   ]
  },
  {
   "cell_type": "code",
   "execution_count": 54,
   "metadata": {},
   "outputs": [
    {
     "data": {
      "text/html": [
       "<div>\n",
       "<style scoped>\n",
       "    .dataframe tbody tr th:only-of-type {\n",
       "        vertical-align: middle;\n",
       "    }\n",
       "\n",
       "    .dataframe tbody tr th {\n",
       "        vertical-align: top;\n",
       "    }\n",
       "\n",
       "    .dataframe thead th {\n",
       "        text-align: right;\n",
       "    }\n",
       "</style>\n",
       "<table border=\"1\" class=\"dataframe\">\n",
       "  <thead>\n",
       "    <tr style=\"text-align: right;\">\n",
       "      <th></th>\n",
       "      <th>Nombre</th>\n",
       "      <th>Edad</th>\n",
       "      <th>DNI</th>\n",
       "      <th>Random</th>\n",
       "      <th>Ene</th>\n",
       "      <th>Mar</th>\n",
       "    </tr>\n",
       "  </thead>\n",
       "  <tbody>\n",
       "    <tr>\n",
       "      <th>0</th>\n",
       "      <td>María</td>\n",
       "      <td>28</td>\n",
       "      <td>42464548</td>\n",
       "      <td>312.0</td>\n",
       "      <td>5</td>\n",
       "      <td>8</td>\n",
       "    </tr>\n",
       "    <tr>\n",
       "      <th>1</th>\n",
       "      <td>Julián</td>\n",
       "      <td>30</td>\n",
       "      <td>40687879</td>\n",
       "      <td>NaN</td>\n",
       "      <td>7</td>\n",
       "      <td>7</td>\n",
       "    </tr>\n",
       "    <tr>\n",
       "      <th>2</th>\n",
       "      <td>julio</td>\n",
       "      <td>15</td>\n",
       "      <td>50444555</td>\n",
       "      <td>500.0</td>\n",
       "      <td>8</td>\n",
       "      <td>3</td>\n",
       "    </tr>\n",
       "    <tr>\n",
       "      <th>3</th>\n",
       "      <td>Ramiro</td>\n",
       "      <td>15</td>\n",
       "      <td>4564654</td>\n",
       "      <td>500.0</td>\n",
       "      <td>8</td>\n",
       "      <td>3</td>\n",
       "    </tr>\n",
       "  </tbody>\n",
       "</table>\n",
       "</div>"
      ],
      "text/plain": [
       "   Nombre  Edad       DNI  Random  Ene  Mar\n",
       "0   María    28  42464548   312.0    5    8\n",
       "1  Julián    30  40687879     NaN    7    7\n",
       "2   julio    15  50444555   500.0    8    3\n",
       "3  Ramiro    15   4564654   500.0    8    3"
      ]
     },
     "execution_count": 54,
     "metadata": {},
     "output_type": "execute_result"
    }
   ],
   "source": [
    "nlista1.loc[3] = [\"Ramiro\",15,4564654,500,8,3]\n",
    "nlista1"
   ]
  },
  {
   "cell_type": "markdown",
   "metadata": {},
   "source": [
    "A travez de pd.Series se pueden agregar, pero se debe aclarar a que columna va cada dato."
   ]
  },
  {
   "cell_type": "code",
   "execution_count": 55,
   "metadata": {},
   "outputs": [
    {
     "data": {
      "text/html": [
       "<div>\n",
       "<style scoped>\n",
       "    .dataframe tbody tr th:only-of-type {\n",
       "        vertical-align: middle;\n",
       "    }\n",
       "\n",
       "    .dataframe tbody tr th {\n",
       "        vertical-align: top;\n",
       "    }\n",
       "\n",
       "    .dataframe thead th {\n",
       "        text-align: right;\n",
       "    }\n",
       "</style>\n",
       "<table border=\"1\" class=\"dataframe\">\n",
       "  <thead>\n",
       "    <tr style=\"text-align: right;\">\n",
       "      <th></th>\n",
       "      <th>Nombre</th>\n",
       "      <th>Edad</th>\n",
       "      <th>DNI</th>\n",
       "      <th>Random</th>\n",
       "      <th>Ene</th>\n",
       "      <th>Mar</th>\n",
       "    </tr>\n",
       "  </thead>\n",
       "  <tbody>\n",
       "    <tr>\n",
       "      <th>0</th>\n",
       "      <td>María</td>\n",
       "      <td>28</td>\n",
       "      <td>42464548</td>\n",
       "      <td>312.0</td>\n",
       "      <td>5</td>\n",
       "      <td>8</td>\n",
       "    </tr>\n",
       "    <tr>\n",
       "      <th>1</th>\n",
       "      <td>Julián</td>\n",
       "      <td>30</td>\n",
       "      <td>40687879</td>\n",
       "      <td>NaN</td>\n",
       "      <td>7</td>\n",
       "      <td>7</td>\n",
       "    </tr>\n",
       "    <tr>\n",
       "      <th>2</th>\n",
       "      <td>julio</td>\n",
       "      <td>15</td>\n",
       "      <td>50444555</td>\n",
       "      <td>500.0</td>\n",
       "      <td>8</td>\n",
       "      <td>3</td>\n",
       "    </tr>\n",
       "    <tr>\n",
       "      <th>3</th>\n",
       "      <td>Ramiro</td>\n",
       "      <td>15</td>\n",
       "      <td>4564654</td>\n",
       "      <td>500.0</td>\n",
       "      <td>8</td>\n",
       "      <td>3</td>\n",
       "    </tr>\n",
       "    <tr>\n",
       "      <th>4</th>\n",
       "      <td>Ramiro2</td>\n",
       "      <td>65</td>\n",
       "      <td>599</td>\n",
       "      <td>1444555.0</td>\n",
       "      <td>8</td>\n",
       "      <td>3</td>\n",
       "    </tr>\n",
       "  </tbody>\n",
       "</table>\n",
       "</div>"
      ],
      "text/plain": [
       "    Nombre  Edad       DNI     Random  Ene  Mar\n",
       "0    María    28  42464548      312.0    5    8\n",
       "1   Julián    30  40687879        NaN    7    7\n",
       "2    julio    15  50444555      500.0    8    3\n",
       "3   Ramiro    15   4564654      500.0    8    3\n",
       "4  Ramiro2    65       599  1444555.0    8    3"
      ]
     },
     "execution_count": 55,
     "metadata": {},
     "output_type": "execute_result"
    }
   ],
   "source": [
    "rr=np.random.randint(500,600)\n",
    "nlista1.loc[4] = pd.Series([\"Ramiro2\",65,1444555,rr,8,3], index=[\"Nombre\",\"Edad\",\"Random\",\"DNI\",\"Ene\",\"Mar\"])\n",
    "nlista1"
   ]
  },
  {
   "cell_type": "markdown",
   "metadata": {},
   "source": [
    "Agregar filas del data frame DF2 al dataframe DF1, por defecto axis=0, al colocar ignore_index, agrega índices correlativos con *.concat((DF1, DF2),ignore_index=True)*"
   ]
  },
  {
   "cell_type": "code",
   "execution_count": 57,
   "metadata": {},
   "outputs": [
    {
     "data": {
      "text/html": [
       "<div>\n",
       "<style scoped>\n",
       "    .dataframe tbody tr th:only-of-type {\n",
       "        vertical-align: middle;\n",
       "    }\n",
       "\n",
       "    .dataframe tbody tr th {\n",
       "        vertical-align: top;\n",
       "    }\n",
       "\n",
       "    .dataframe thead th {\n",
       "        text-align: right;\n",
       "    }\n",
       "</style>\n",
       "<table border=\"1\" class=\"dataframe\">\n",
       "  <thead>\n",
       "    <tr style=\"text-align: right;\">\n",
       "      <th></th>\n",
       "      <th>Nombre</th>\n",
       "      <th>Edad</th>\n",
       "      <th>DNI</th>\n",
       "      <th>Random</th>\n",
       "      <th>Ene</th>\n",
       "      <th>Mar</th>\n",
       "    </tr>\n",
       "  </thead>\n",
       "  <tbody>\n",
       "    <tr>\n",
       "      <th>0</th>\n",
       "      <td>María</td>\n",
       "      <td>28</td>\n",
       "      <td>42464548</td>\n",
       "      <td>312.0</td>\n",
       "      <td>5</td>\n",
       "      <td>8</td>\n",
       "    </tr>\n",
       "    <tr>\n",
       "      <th>1</th>\n",
       "      <td>Julián</td>\n",
       "      <td>30</td>\n",
       "      <td>40687879</td>\n",
       "      <td>NaN</td>\n",
       "      <td>7</td>\n",
       "      <td>7</td>\n",
       "    </tr>\n",
       "    <tr>\n",
       "      <th>2</th>\n",
       "      <td>julio</td>\n",
       "      <td>15</td>\n",
       "      <td>50444555</td>\n",
       "      <td>500.0</td>\n",
       "      <td>8</td>\n",
       "      <td>3</td>\n",
       "    </tr>\n",
       "    <tr>\n",
       "      <th>3</th>\n",
       "      <td>Ramiro</td>\n",
       "      <td>15</td>\n",
       "      <td>4564654</td>\n",
       "      <td>500.0</td>\n",
       "      <td>8</td>\n",
       "      <td>3</td>\n",
       "    </tr>\n",
       "    <tr>\n",
       "      <th>4</th>\n",
       "      <td>Ramiro2</td>\n",
       "      <td>65</td>\n",
       "      <td>599</td>\n",
       "      <td>1444555.0</td>\n",
       "      <td>8</td>\n",
       "      <td>3</td>\n",
       "    </tr>\n",
       "    <tr>\n",
       "      <th>5</th>\n",
       "      <td>Juan</td>\n",
       "      <td>35</td>\n",
       "      <td>55974558</td>\n",
       "      <td>404.0</td>\n",
       "      <td>5</td>\n",
       "      <td>1</td>\n",
       "    </tr>\n",
       "    <tr>\n",
       "      <th>6</th>\n",
       "      <td>Laura</td>\n",
       "      <td>36</td>\n",
       "      <td>56122245</td>\n",
       "      <td>483.0</td>\n",
       "      <td>5</td>\n",
       "      <td>3</td>\n",
       "    </tr>\n",
       "  </tbody>\n",
       "</table>\n",
       "</div>"
      ],
      "text/plain": [
       "    Nombre  Edad       DNI     Random  Ene  Mar\n",
       "0    María    28  42464548      312.0    5    8\n",
       "1   Julián    30  40687879        NaN    7    7\n",
       "2    julio    15  50444555      500.0    8    3\n",
       "3   Ramiro    15   4564654      500.0    8    3\n",
       "4  Ramiro2    65       599  1444555.0    8    3\n",
       "5     Juan    35  55974558      404.0    5    1\n",
       "6    Laura    36  56122245      483.0    5    3"
      ]
     },
     "execution_count": 57,
     "metadata": {},
     "output_type": "execute_result"
    }
   ],
   "source": [
    "#generamos un nuevo array n_df y valores random para las ultimas 3 columnas\n",
    "Rand=list(np.random.randint(400,500,2))\n",
    "Ene=list(np.random.randint(5,10,2))\n",
    "Mar=list(np.random.randint(1,5,2))\n",
    "n_df=pd.DataFrame({\n",
    "    \"Nombre\":[\"Juan\",\"Laura\"],\n",
    "    \"Edad\":[35,36],\n",
    "    \"DNI\":[55974558,56122245],\n",
    "    \"Random\":Rand,\n",
    "    \"Ene\":Ene,\n",
    "    \"Mar\":Mar\n",
    "})\n",
    "DF_Col=pd.concat((nlista1,n_df),ignore_index=True)\n",
    "DF_Col"
   ]
  },
  {
   "cell_type": "code",
   "execution_count": 23,
   "metadata": {},
   "outputs": [
    {
     "data": {
      "text/html": [
       "<div>\n",
       "<style scoped>\n",
       "    .dataframe tbody tr th:only-of-type {\n",
       "        vertical-align: middle;\n",
       "    }\n",
       "\n",
       "    .dataframe tbody tr th {\n",
       "        vertical-align: top;\n",
       "    }\n",
       "\n",
       "    .dataframe thead th {\n",
       "        text-align: right;\n",
       "    }\n",
       "</style>\n",
       "<table border=\"1\" class=\"dataframe\">\n",
       "  <thead>\n",
       "    <tr style=\"text-align: right;\">\n",
       "      <th></th>\n",
       "      <th>Nombre</th>\n",
       "      <th>Edad</th>\n",
       "      <th>DNI</th>\n",
       "      <th>Random</th>\n",
       "      <th>Ene</th>\n",
       "      <th>Mar</th>\n",
       "      <th>Nombre</th>\n",
       "      <th>Edad</th>\n",
       "      <th>DNI</th>\n",
       "      <th>Random</th>\n",
       "      <th>Ene</th>\n",
       "      <th>Mar</th>\n",
       "    </tr>\n",
       "  </thead>\n",
       "  <tbody>\n",
       "    <tr>\n",
       "      <th>0</th>\n",
       "      <td>María</td>\n",
       "      <td>28</td>\n",
       "      <td>42464548</td>\n",
       "      <td>371.0</td>\n",
       "      <td>5</td>\n",
       "      <td>8</td>\n",
       "      <td>Juan</td>\n",
       "      <td>35.0</td>\n",
       "      <td>55974558.0</td>\n",
       "      <td>445.0</td>\n",
       "      <td>7.0</td>\n",
       "      <td>2.0</td>\n",
       "    </tr>\n",
       "    <tr>\n",
       "      <th>1</th>\n",
       "      <td>Julián</td>\n",
       "      <td>30</td>\n",
       "      <td>40687879</td>\n",
       "      <td>375.0</td>\n",
       "      <td>7</td>\n",
       "      <td>7</td>\n",
       "      <td>Laura</td>\n",
       "      <td>36.0</td>\n",
       "      <td>56122245.0</td>\n",
       "      <td>490.0</td>\n",
       "      <td>6.0</td>\n",
       "      <td>3.0</td>\n",
       "    </tr>\n",
       "    <tr>\n",
       "      <th>2</th>\n",
       "      <td>Ana</td>\n",
       "      <td>25</td>\n",
       "      <td>48990075</td>\n",
       "      <td>NaN</td>\n",
       "      <td>5</td>\n",
       "      <td>8</td>\n",
       "      <td>NaN</td>\n",
       "      <td>NaN</td>\n",
       "      <td>NaN</td>\n",
       "      <td>NaN</td>\n",
       "      <td>NaN</td>\n",
       "      <td>NaN</td>\n",
       "    </tr>\n",
       "    <tr>\n",
       "      <th>3</th>\n",
       "      <td>julio</td>\n",
       "      <td>15</td>\n",
       "      <td>50444555</td>\n",
       "      <td>500.0</td>\n",
       "      <td>8</td>\n",
       "      <td>3</td>\n",
       "      <td>NaN</td>\n",
       "      <td>NaN</td>\n",
       "      <td>NaN</td>\n",
       "      <td>NaN</td>\n",
       "      <td>NaN</td>\n",
       "      <td>NaN</td>\n",
       "    </tr>\n",
       "    <tr>\n",
       "      <th>4</th>\n",
       "      <td>Ramiro</td>\n",
       "      <td>15</td>\n",
       "      <td>516</td>\n",
       "      <td>50444555.0</td>\n",
       "      <td>8</td>\n",
       "      <td>3</td>\n",
       "      <td>NaN</td>\n",
       "      <td>NaN</td>\n",
       "      <td>NaN</td>\n",
       "      <td>NaN</td>\n",
       "      <td>NaN</td>\n",
       "      <td>NaN</td>\n",
       "    </tr>\n",
       "  </tbody>\n",
       "</table>\n",
       "</div>"
      ],
      "text/plain": [
       "   Nombre  Edad       DNI      Random  Ene  Mar Nombre  Edad         DNI  \\\n",
       "0   María    28  42464548       371.0    5    8   Juan  35.0  55974558.0   \n",
       "1  Julián    30  40687879       375.0    7    7  Laura  36.0  56122245.0   \n",
       "2     Ana    25  48990075         NaN    5    8    NaN   NaN         NaN   \n",
       "3   julio    15  50444555       500.0    8    3    NaN   NaN         NaN   \n",
       "4  Ramiro    15       516  50444555.0    8    3    NaN   NaN         NaN   \n",
       "\n",
       "   Random  Ene  Mar  \n",
       "0   445.0  7.0  2.0  \n",
       "1   490.0  6.0  3.0  \n",
       "2     NaN  NaN  NaN  \n",
       "3     NaN  NaN  NaN  \n",
       "4     NaN  NaN  NaN  "
      ]
     },
     "execution_count": 23,
     "metadata": {},
     "output_type": "execute_result"
    }
   ],
   "source": [
    "DF_Fil=pd.concat((nlista1,n_df),axis=1)\n",
    "DF_Fil"
   ]
  },
  {
   "cell_type": "markdown",
   "metadata": {},
   "source": [
    "Se eliminan filas *m* y *n* con .drop([m,n])"
   ]
  },
  {
   "cell_type": "code",
   "execution_count": 58,
   "metadata": {},
   "outputs": [
    {
     "data": {
      "text/html": [
       "<div>\n",
       "<style scoped>\n",
       "    .dataframe tbody tr th:only-of-type {\n",
       "        vertical-align: middle;\n",
       "    }\n",
       "\n",
       "    .dataframe tbody tr th {\n",
       "        vertical-align: top;\n",
       "    }\n",
       "\n",
       "    .dataframe thead th {\n",
       "        text-align: right;\n",
       "    }\n",
       "</style>\n",
       "<table border=\"1\" class=\"dataframe\">\n",
       "  <thead>\n",
       "    <tr style=\"text-align: right;\">\n",
       "      <th></th>\n",
       "      <th>Nombre</th>\n",
       "      <th>Edad</th>\n",
       "      <th>DNI</th>\n",
       "      <th>Random</th>\n",
       "      <th>Ene</th>\n",
       "      <th>Mar</th>\n",
       "    </tr>\n",
       "  </thead>\n",
       "  <tbody>\n",
       "    <tr>\n",
       "      <th>0</th>\n",
       "      <td>María</td>\n",
       "      <td>28</td>\n",
       "      <td>42464548</td>\n",
       "      <td>312.0</td>\n",
       "      <td>5</td>\n",
       "      <td>8</td>\n",
       "    </tr>\n",
       "    <tr>\n",
       "      <th>1</th>\n",
       "      <td>Julián</td>\n",
       "      <td>30</td>\n",
       "      <td>40687879</td>\n",
       "      <td>NaN</td>\n",
       "      <td>7</td>\n",
       "      <td>7</td>\n",
       "    </tr>\n",
       "    <tr>\n",
       "      <th>3</th>\n",
       "      <td>Ramiro</td>\n",
       "      <td>15</td>\n",
       "      <td>4564654</td>\n",
       "      <td>500.0</td>\n",
       "      <td>8</td>\n",
       "      <td>3</td>\n",
       "    </tr>\n",
       "    <tr>\n",
       "      <th>5</th>\n",
       "      <td>Juan</td>\n",
       "      <td>35</td>\n",
       "      <td>55974558</td>\n",
       "      <td>404.0</td>\n",
       "      <td>5</td>\n",
       "      <td>1</td>\n",
       "    </tr>\n",
       "    <tr>\n",
       "      <th>6</th>\n",
       "      <td>Laura</td>\n",
       "      <td>36</td>\n",
       "      <td>56122245</td>\n",
       "      <td>483.0</td>\n",
       "      <td>5</td>\n",
       "      <td>3</td>\n",
       "    </tr>\n",
       "  </tbody>\n",
       "</table>\n",
       "</div>"
      ],
      "text/plain": [
       "   Nombre  Edad       DNI  Random  Ene  Mar\n",
       "0   María    28  42464548   312.0    5    8\n",
       "1  Julián    30  40687879     NaN    7    7\n",
       "3  Ramiro    15   4564654   500.0    8    3\n",
       "5    Juan    35  55974558   404.0    5    1\n",
       "6   Laura    36  56122245   483.0    5    3"
      ]
     },
     "execution_count": 58,
     "metadata": {},
     "output_type": "execute_result"
    }
   ],
   "source": [
    "DF_Col.drop([2,4])"
   ]
  },
  {
   "cell_type": "markdown",
   "metadata": {},
   "source": [
    "# MERGE"
   ]
  },
  {
   "cell_type": "markdown",
   "metadata": {},
   "source": [
    "* Merge hace referencia a la combinación de *Data Frames*\n",
    "* Se consideran datos **repetidos** o **información en común**"
   ]
  },
  {
   "cell_type": "code",
   "execution_count": 25,
   "metadata": {},
   "outputs": [
    {
     "name": "stdout",
     "output_type": "stream",
     "text": [
      "    Nombre  Edad Nacionalidad\n",
      "0   Analía    10      Uruguay\n",
      "1   Ramiro    20       Brasil\n",
      "2  Julieta    23    Argentina\n",
      "3     Raul    22        Chile\n",
      "    Nombre  Altura         Oficio\n",
      "0   Analía    1.40     Estudiante\n",
      "1   Ramiro    1.76        Tecnico\n",
      "2  Julieta    1.70  Recepcionista\n",
      "3     Raul    1.90  Transportista\n"
     ]
    }
   ],
   "source": [
    "df1=pd.DataFrame(\n",
    "    {\n",
    "        \"Nombre\":[\"Analía\",\"Ramiro\",\"Julieta\",\"Raul\"],\n",
    "        \"Edad\":[10,20,23,22],\n",
    "        \"Nacionalidad\":[\"Uruguay\",\"Brasil\",\"Argentina\",\"Chile\"]\n",
    "    }\n",
    ")\n",
    "df2=pd.DataFrame(\n",
    "    {\n",
    "        \"Nombre\":[\"Analía\",\"Ramiro\",\"Julieta\",\"Raul\"],\n",
    "        \"Altura\":[1.40,1.76,1.70,1.90],\n",
    "        \"Oficio\":[\"Estudiante\",\"Tecnico\",\"Recepcionista\",\"Transportista\"]\n",
    "    }\n",
    ")\n",
    "print(df1)\n",
    "print(df2)"
   ]
  },
  {
   "cell_type": "markdown",
   "metadata": {},
   "source": [
    "* Se debe colocar que columna se toma como referencia"
   ]
  },
  {
   "cell_type": "code",
   "execution_count": 26,
   "metadata": {},
   "outputs": [
    {
     "data": {
      "text/html": [
       "<div>\n",
       "<style scoped>\n",
       "    .dataframe tbody tr th:only-of-type {\n",
       "        vertical-align: middle;\n",
       "    }\n",
       "\n",
       "    .dataframe tbody tr th {\n",
       "        vertical-align: top;\n",
       "    }\n",
       "\n",
       "    .dataframe thead th {\n",
       "        text-align: right;\n",
       "    }\n",
       "</style>\n",
       "<table border=\"1\" class=\"dataframe\">\n",
       "  <thead>\n",
       "    <tr style=\"text-align: right;\">\n",
       "      <th></th>\n",
       "      <th>Nombre</th>\n",
       "      <th>Edad</th>\n",
       "      <th>Nacionalidad</th>\n",
       "      <th>Altura</th>\n",
       "      <th>Oficio</th>\n",
       "    </tr>\n",
       "  </thead>\n",
       "  <tbody>\n",
       "    <tr>\n",
       "      <th>0</th>\n",
       "      <td>Analía</td>\n",
       "      <td>10</td>\n",
       "      <td>Uruguay</td>\n",
       "      <td>1.40</td>\n",
       "      <td>Estudiante</td>\n",
       "    </tr>\n",
       "    <tr>\n",
       "      <th>1</th>\n",
       "      <td>Ramiro</td>\n",
       "      <td>20</td>\n",
       "      <td>Brasil</td>\n",
       "      <td>1.76</td>\n",
       "      <td>Tecnico</td>\n",
       "    </tr>\n",
       "    <tr>\n",
       "      <th>2</th>\n",
       "      <td>Julieta</td>\n",
       "      <td>23</td>\n",
       "      <td>Argentina</td>\n",
       "      <td>1.70</td>\n",
       "      <td>Recepcionista</td>\n",
       "    </tr>\n",
       "    <tr>\n",
       "      <th>3</th>\n",
       "      <td>Raul</td>\n",
       "      <td>22</td>\n",
       "      <td>Chile</td>\n",
       "      <td>1.90</td>\n",
       "      <td>Transportista</td>\n",
       "    </tr>\n",
       "  </tbody>\n",
       "</table>\n",
       "</div>"
      ],
      "text/plain": [
       "    Nombre  Edad Nacionalidad  Altura         Oficio\n",
       "0   Analía    10      Uruguay    1.40     Estudiante\n",
       "1   Ramiro    20       Brasil    1.76        Tecnico\n",
       "2  Julieta    23    Argentina    1.70  Recepcionista\n",
       "3     Raul    22        Chile    1.90  Transportista"
      ]
     },
     "execution_count": 26,
     "metadata": {},
     "output_type": "execute_result"
    }
   ],
   "source": [
    "df=pd.merge(df1,df2,on=\"Nombre\")\n",
    "df"
   ]
  },
  {
   "cell_type": "markdown",
   "metadata": {},
   "source": [
    "* Si cambiamos df2 con otro nombre y combinamos por nombre, elimina los datos de los dataframe que no se encuentran en comun según el criterio de combinación, en este caso *\"Nobmre\"*"
   ]
  },
  {
   "cell_type": "code",
   "execution_count": 59,
   "metadata": {},
   "outputs": [
    {
     "data": {
      "text/html": [
       "<div>\n",
       "<style scoped>\n",
       "    .dataframe tbody tr th:only-of-type {\n",
       "        vertical-align: middle;\n",
       "    }\n",
       "\n",
       "    .dataframe tbody tr th {\n",
       "        vertical-align: top;\n",
       "    }\n",
       "\n",
       "    .dataframe thead th {\n",
       "        text-align: right;\n",
       "    }\n",
       "</style>\n",
       "<table border=\"1\" class=\"dataframe\">\n",
       "  <thead>\n",
       "    <tr style=\"text-align: right;\">\n",
       "      <th></th>\n",
       "      <th>Nombre</th>\n",
       "      <th>Edad</th>\n",
       "      <th>Nacionalidad</th>\n",
       "      <th>Altura</th>\n",
       "      <th>Oficio</th>\n",
       "      <th>Peso</th>\n",
       "    </tr>\n",
       "  </thead>\n",
       "  <tbody>\n",
       "    <tr>\n",
       "      <th>0</th>\n",
       "      <td>Analía</td>\n",
       "      <td>10</td>\n",
       "      <td>Uruguay</td>\n",
       "      <td>1.40</td>\n",
       "      <td>Estudiante</td>\n",
       "      <td>20</td>\n",
       "    </tr>\n",
       "    <tr>\n",
       "      <th>1</th>\n",
       "      <td>Ramiro</td>\n",
       "      <td>20</td>\n",
       "      <td>Brasil</td>\n",
       "      <td>1.76</td>\n",
       "      <td>Tecnico</td>\n",
       "      <td>25</td>\n",
       "    </tr>\n",
       "    <tr>\n",
       "      <th>2</th>\n",
       "      <td>Julieta</td>\n",
       "      <td>23</td>\n",
       "      <td>Argentina</td>\n",
       "      <td>1.70</td>\n",
       "      <td>Recepcionista</td>\n",
       "      <td>30</td>\n",
       "    </tr>\n",
       "  </tbody>\n",
       "</table>\n",
       "</div>"
      ],
      "text/plain": [
       "    Nombre  Edad Nacionalidad  Altura         Oficio  Peso\n",
       "0   Analía    10      Uruguay    1.40     Estudiante    20\n",
       "1   Ramiro    20       Brasil    1.76        Tecnico    25\n",
       "2  Julieta    23    Argentina    1.70  Recepcionista    30"
      ]
     },
     "execution_count": 59,
     "metadata": {},
     "output_type": "execute_result"
    }
   ],
   "source": [
    "df2=pd.DataFrame(\n",
    "    {\n",
    "        \"Nombre\":[\"Analía\",\"Ramiro\",\"Julieta\",\"Roque\"],\n",
    "        \"Altura\":[1.40,1.76,1.70,1.90],\n",
    "        \"Oficio\":[\"Estudiante\",\"Tecnico\",\"Recepcionista\",\"Transportista\"],\n",
    "        \"Peso\":[20,25,30,35]\n",
    "    }\n",
    ")\n",
    "df=pd.merge(df1,df2,on=\"Nombre\")\n",
    "df"
   ]
  },
  {
   "cell_type": "markdown",
   "metadata": {},
   "source": [
    "#### Modificadores de Merge\n",
    "how:\n",
    "* inner : Por defecto toma como referencia las filas, y agrega las columnas que faltan manteniendo las filas con índices que aparecen en los dos dataframes\n",
    "* outer : Toma como referencia las colunas de los dos Dataframes y agrega las filas y columnas que no están en en los dos dataframes.\n",
    "* left: Conserva el primer data frame y agrega los datos que coinciden del segundo\n",
    "* right: Agrega los datos que coinciden del primero y conserva todo el segundo dataframe"
   ]
  },
  {
   "cell_type": "code",
   "execution_count": 60,
   "metadata": {},
   "outputs": [
    {
     "name": "stdout",
     "output_type": "stream",
     "text": [
      "    Nombre  Edad Nacionalidad  Altura         Oficio  Peso\n",
      "0   Analía    10      Uruguay    1.40     Estudiante    20\n",
      "1   Ramiro    20       Brasil    1.76        Tecnico    25\n",
      "2  Julieta    23    Argentina    1.70  Recepcionista    30\n"
     ]
    }
   ],
   "source": [
    "inn=pd.merge(df1,df2,on=\"Nombre\",how=\"inner\")\n",
    "print(inn)"
   ]
  },
  {
   "cell_type": "code",
   "execution_count": 29,
   "metadata": {},
   "outputs": [
    {
     "name": "stdout",
     "output_type": "stream",
     "text": [
      "    Nombre  Edad Nacionalidad  Altura         Oficio  Peso\n",
      "0   Analía  10.0      Uruguay    1.40     Estudiante  20.0\n",
      "1   Ramiro  20.0       Brasil    1.76        Tecnico  25.0\n",
      "2  Julieta  23.0    Argentina    1.70  Recepcionista  30.0\n",
      "3     Raul  22.0        Chile     NaN            NaN   NaN\n",
      "4    Roque   NaN          NaN    1.90  Transportista  35.0\n"
     ]
    }
   ],
   "source": [
    "out=pd.merge(df1,df2,on=\"Nombre\",how=\"outer\")\n",
    "print(out)"
   ]
  },
  {
   "cell_type": "code",
   "execution_count": 30,
   "metadata": {},
   "outputs": [
    {
     "name": "stdout",
     "output_type": "stream",
     "text": [
      "    Nombre  Edad Nacionalidad  Altura         Oficio  Peso\n",
      "0   Analía    10      Uruguay    1.40     Estudiante  20.0\n",
      "1   Ramiro    20       Brasil    1.76        Tecnico  25.0\n",
      "2  Julieta    23    Argentina    1.70  Recepcionista  30.0\n",
      "3     Raul    22        Chile     NaN            NaN   NaN\n"
     ]
    }
   ],
   "source": [
    "lf=pd.merge(df1,df2,on=\"Nombre\",how=\"left\")\n",
    "print(lf)"
   ]
  },
  {
   "cell_type": "code",
   "execution_count": 31,
   "metadata": {},
   "outputs": [
    {
     "name": "stdout",
     "output_type": "stream",
     "text": [
      "    Nombre  Edad Nacionalidad  Altura         Oficio  Peso\n",
      "0   Analía  10.0      Uruguay    1.40     Estudiante    20\n",
      "1   Ramiro  20.0       Brasil    1.76        Tecnico    25\n",
      "2  Julieta  23.0    Argentina    1.70  Recepcionista    30\n",
      "3    Roque   NaN          NaN    1.90  Transportista    35\n"
     ]
    }
   ],
   "source": [
    "rt=pd.merge(df1,df2,on=\"Nombre\",how=\"right\")\n",
    "print(rt)"
   ]
  },
  {
   "cell_type": "markdown",
   "metadata": {},
   "source": [
    "# JOIN"
   ]
  },
  {
   "cell_type": "markdown",
   "metadata": {},
   "source": [
    "Combina contenidos de tablas pero haciendo referencia y buscando un valor en otra tabla."
   ]
  },
  {
   "cell_type": "code",
   "execution_count": 32,
   "metadata": {},
   "outputs": [],
   "source": [
    "prod=pd.DataFrame(\n",
    "    {\n",
    "        \"id_prod\":[1,2,3,4,5],\n",
    "        \"nombre\":[\"Cable\",\"Conec-Rj11\",\"Conec-Rj45\",\"SFP\",\"Fuente\"],\n",
    "        \"precio\":[5,3,7,25,20]\n",
    "    }\n",
    ")\n",
    "ventas=pd.DataFrame(\n",
    "    {\n",
    "        \"id_vta\":[1,2,3],\n",
    "        \"dia\":[\"11/02/2024\",\"13/02/2004\",\"16/02/2004\"],\n",
    "        \"factura\":[1001,1002,1003]\n",
    "    }\n",
    ")\n",
    "item_f=pd.DataFrame(\n",
    "    {\n",
    "        \"id_f\":[1,2,3,4,5,6,7,8,9],\n",
    "        \"id_pr\":[4,1,2,3,4,2,3,1,2],\n",
    "        \"id_venta\":[1,2,1,3,2,3,1,2,3],\n",
    "        \"q\":[10,8,100,43,54,23,14,100,100]\n",
    "    }\n",
    ")"
   ]
  },
  {
   "cell_type": "code",
   "execution_count": 33,
   "metadata": {},
   "outputs": [
    {
     "data": {
      "text/html": [
       "<div>\n",
       "<style scoped>\n",
       "    .dataframe tbody tr th:only-of-type {\n",
       "        vertical-align: middle;\n",
       "    }\n",
       "\n",
       "    .dataframe tbody tr th {\n",
       "        vertical-align: top;\n",
       "    }\n",
       "\n",
       "    .dataframe thead th {\n",
       "        text-align: right;\n",
       "    }\n",
       "</style>\n",
       "<table border=\"1\" class=\"dataframe\">\n",
       "  <thead>\n",
       "    <tr style=\"text-align: right;\">\n",
       "      <th></th>\n",
       "      <th>id_prod</th>\n",
       "      <th>nombre</th>\n",
       "      <th>precio</th>\n",
       "    </tr>\n",
       "  </thead>\n",
       "  <tbody>\n",
       "    <tr>\n",
       "      <th>0</th>\n",
       "      <td>1</td>\n",
       "      <td>Cable</td>\n",
       "      <td>5</td>\n",
       "    </tr>\n",
       "    <tr>\n",
       "      <th>1</th>\n",
       "      <td>2</td>\n",
       "      <td>Conec-Rj11</td>\n",
       "      <td>3</td>\n",
       "    </tr>\n",
       "    <tr>\n",
       "      <th>2</th>\n",
       "      <td>3</td>\n",
       "      <td>Conec-Rj45</td>\n",
       "      <td>7</td>\n",
       "    </tr>\n",
       "    <tr>\n",
       "      <th>3</th>\n",
       "      <td>4</td>\n",
       "      <td>SFP</td>\n",
       "      <td>25</td>\n",
       "    </tr>\n",
       "    <tr>\n",
       "      <th>4</th>\n",
       "      <td>5</td>\n",
       "      <td>Fuente</td>\n",
       "      <td>20</td>\n",
       "    </tr>\n",
       "  </tbody>\n",
       "</table>\n",
       "</div>"
      ],
      "text/plain": [
       "   id_prod      nombre  precio\n",
       "0        1       Cable       5\n",
       "1        2  Conec-Rj11       3\n",
       "2        3  Conec-Rj45       7\n",
       "3        4         SFP      25\n",
       "4        5      Fuente      20"
      ]
     },
     "execution_count": 33,
     "metadata": {},
     "output_type": "execute_result"
    }
   ],
   "source": [
    "prod"
   ]
  },
  {
   "cell_type": "code",
   "execution_count": 34,
   "metadata": {},
   "outputs": [
    {
     "data": {
      "text/html": [
       "<div>\n",
       "<style scoped>\n",
       "    .dataframe tbody tr th:only-of-type {\n",
       "        vertical-align: middle;\n",
       "    }\n",
       "\n",
       "    .dataframe tbody tr th {\n",
       "        vertical-align: top;\n",
       "    }\n",
       "\n",
       "    .dataframe thead th {\n",
       "        text-align: right;\n",
       "    }\n",
       "</style>\n",
       "<table border=\"1\" class=\"dataframe\">\n",
       "  <thead>\n",
       "    <tr style=\"text-align: right;\">\n",
       "      <th></th>\n",
       "      <th>id_vta</th>\n",
       "      <th>dia</th>\n",
       "      <th>factura</th>\n",
       "    </tr>\n",
       "  </thead>\n",
       "  <tbody>\n",
       "    <tr>\n",
       "      <th>0</th>\n",
       "      <td>1</td>\n",
       "      <td>11/02/2024</td>\n",
       "      <td>1001</td>\n",
       "    </tr>\n",
       "    <tr>\n",
       "      <th>1</th>\n",
       "      <td>2</td>\n",
       "      <td>13/02/2004</td>\n",
       "      <td>1002</td>\n",
       "    </tr>\n",
       "    <tr>\n",
       "      <th>2</th>\n",
       "      <td>3</td>\n",
       "      <td>16/02/2004</td>\n",
       "      <td>1003</td>\n",
       "    </tr>\n",
       "  </tbody>\n",
       "</table>\n",
       "</div>"
      ],
      "text/plain": [
       "   id_vta         dia  factura\n",
       "0       1  11/02/2024     1001\n",
       "1       2  13/02/2004     1002\n",
       "2       3  16/02/2004     1003"
      ]
     },
     "execution_count": 34,
     "metadata": {},
     "output_type": "execute_result"
    }
   ],
   "source": [
    "ventas"
   ]
  },
  {
   "cell_type": "code",
   "execution_count": 35,
   "metadata": {},
   "outputs": [
    {
     "data": {
      "text/html": [
       "<div>\n",
       "<style scoped>\n",
       "    .dataframe tbody tr th:only-of-type {\n",
       "        vertical-align: middle;\n",
       "    }\n",
       "\n",
       "    .dataframe tbody tr th {\n",
       "        vertical-align: top;\n",
       "    }\n",
       "\n",
       "    .dataframe thead th {\n",
       "        text-align: right;\n",
       "    }\n",
       "</style>\n",
       "<table border=\"1\" class=\"dataframe\">\n",
       "  <thead>\n",
       "    <tr style=\"text-align: right;\">\n",
       "      <th></th>\n",
       "      <th>id_f</th>\n",
       "      <th>id_pr</th>\n",
       "      <th>id_venta</th>\n",
       "      <th>q</th>\n",
       "    </tr>\n",
       "  </thead>\n",
       "  <tbody>\n",
       "    <tr>\n",
       "      <th>0</th>\n",
       "      <td>1</td>\n",
       "      <td>4</td>\n",
       "      <td>1</td>\n",
       "      <td>10</td>\n",
       "    </tr>\n",
       "    <tr>\n",
       "      <th>1</th>\n",
       "      <td>2</td>\n",
       "      <td>1</td>\n",
       "      <td>2</td>\n",
       "      <td>8</td>\n",
       "    </tr>\n",
       "    <tr>\n",
       "      <th>2</th>\n",
       "      <td>3</td>\n",
       "      <td>2</td>\n",
       "      <td>1</td>\n",
       "      <td>100</td>\n",
       "    </tr>\n",
       "    <tr>\n",
       "      <th>3</th>\n",
       "      <td>4</td>\n",
       "      <td>3</td>\n",
       "      <td>3</td>\n",
       "      <td>43</td>\n",
       "    </tr>\n",
       "    <tr>\n",
       "      <th>4</th>\n",
       "      <td>5</td>\n",
       "      <td>4</td>\n",
       "      <td>2</td>\n",
       "      <td>54</td>\n",
       "    </tr>\n",
       "    <tr>\n",
       "      <th>5</th>\n",
       "      <td>6</td>\n",
       "      <td>2</td>\n",
       "      <td>3</td>\n",
       "      <td>23</td>\n",
       "    </tr>\n",
       "    <tr>\n",
       "      <th>6</th>\n",
       "      <td>7</td>\n",
       "      <td>3</td>\n",
       "      <td>1</td>\n",
       "      <td>14</td>\n",
       "    </tr>\n",
       "    <tr>\n",
       "      <th>7</th>\n",
       "      <td>8</td>\n",
       "      <td>1</td>\n",
       "      <td>2</td>\n",
       "      <td>100</td>\n",
       "    </tr>\n",
       "    <tr>\n",
       "      <th>8</th>\n",
       "      <td>9</td>\n",
       "      <td>2</td>\n",
       "      <td>3</td>\n",
       "      <td>100</td>\n",
       "    </tr>\n",
       "  </tbody>\n",
       "</table>\n",
       "</div>"
      ],
      "text/plain": [
       "   id_f  id_pr  id_venta    q\n",
       "0     1      4         1   10\n",
       "1     2      1         2    8\n",
       "2     3      2         1  100\n",
       "3     4      3         3   43\n",
       "4     5      4         2   54\n",
       "5     6      2         3   23\n",
       "6     7      3         1   14\n",
       "7     8      1         2  100\n",
       "8     9      2         3  100"
      ]
     },
     "execution_count": 35,
     "metadata": {},
     "output_type": "execute_result"
    }
   ],
   "source": [
    "item_f"
   ]
  },
  {
   "cell_type": "markdown",
   "metadata": {},
   "source": [
    "Join combina el DF de base con el DF entre paréntesis, por defecto toma los ids asignados automaticamente, no declarados en las columnas"
   ]
  },
  {
   "cell_type": "code",
   "execution_count": 36,
   "metadata": {},
   "outputs": [
    {
     "data": {
      "text/html": [
       "<div>\n",
       "<style scoped>\n",
       "    .dataframe tbody tr th:only-of-type {\n",
       "        vertical-align: middle;\n",
       "    }\n",
       "\n",
       "    .dataframe tbody tr th {\n",
       "        vertical-align: top;\n",
       "    }\n",
       "\n",
       "    .dataframe thead th {\n",
       "        text-align: right;\n",
       "    }\n",
       "</style>\n",
       "<table border=\"1\" class=\"dataframe\">\n",
       "  <thead>\n",
       "    <tr style=\"text-align: right;\">\n",
       "      <th></th>\n",
       "      <th>id_f</th>\n",
       "      <th>id_pr</th>\n",
       "      <th>id_venta</th>\n",
       "      <th>q</th>\n",
       "      <th>id_vta</th>\n",
       "      <th>dia</th>\n",
       "      <th>factura</th>\n",
       "    </tr>\n",
       "  </thead>\n",
       "  <tbody>\n",
       "    <tr>\n",
       "      <th>0</th>\n",
       "      <td>1</td>\n",
       "      <td>4</td>\n",
       "      <td>1</td>\n",
       "      <td>10</td>\n",
       "      <td>1.0</td>\n",
       "      <td>11/02/2024</td>\n",
       "      <td>1001.0</td>\n",
       "    </tr>\n",
       "    <tr>\n",
       "      <th>1</th>\n",
       "      <td>2</td>\n",
       "      <td>1</td>\n",
       "      <td>2</td>\n",
       "      <td>8</td>\n",
       "      <td>2.0</td>\n",
       "      <td>13/02/2004</td>\n",
       "      <td>1002.0</td>\n",
       "    </tr>\n",
       "    <tr>\n",
       "      <th>2</th>\n",
       "      <td>3</td>\n",
       "      <td>2</td>\n",
       "      <td>1</td>\n",
       "      <td>100</td>\n",
       "      <td>3.0</td>\n",
       "      <td>16/02/2004</td>\n",
       "      <td>1003.0</td>\n",
       "    </tr>\n",
       "    <tr>\n",
       "      <th>3</th>\n",
       "      <td>4</td>\n",
       "      <td>3</td>\n",
       "      <td>3</td>\n",
       "      <td>43</td>\n",
       "      <td>NaN</td>\n",
       "      <td>NaN</td>\n",
       "      <td>NaN</td>\n",
       "    </tr>\n",
       "    <tr>\n",
       "      <th>4</th>\n",
       "      <td>5</td>\n",
       "      <td>4</td>\n",
       "      <td>2</td>\n",
       "      <td>54</td>\n",
       "      <td>NaN</td>\n",
       "      <td>NaN</td>\n",
       "      <td>NaN</td>\n",
       "    </tr>\n",
       "    <tr>\n",
       "      <th>5</th>\n",
       "      <td>6</td>\n",
       "      <td>2</td>\n",
       "      <td>3</td>\n",
       "      <td>23</td>\n",
       "      <td>NaN</td>\n",
       "      <td>NaN</td>\n",
       "      <td>NaN</td>\n",
       "    </tr>\n",
       "    <tr>\n",
       "      <th>6</th>\n",
       "      <td>7</td>\n",
       "      <td>3</td>\n",
       "      <td>1</td>\n",
       "      <td>14</td>\n",
       "      <td>NaN</td>\n",
       "      <td>NaN</td>\n",
       "      <td>NaN</td>\n",
       "    </tr>\n",
       "    <tr>\n",
       "      <th>7</th>\n",
       "      <td>8</td>\n",
       "      <td>1</td>\n",
       "      <td>2</td>\n",
       "      <td>100</td>\n",
       "      <td>NaN</td>\n",
       "      <td>NaN</td>\n",
       "      <td>NaN</td>\n",
       "    </tr>\n",
       "    <tr>\n",
       "      <th>8</th>\n",
       "      <td>9</td>\n",
       "      <td>2</td>\n",
       "      <td>3</td>\n",
       "      <td>100</td>\n",
       "      <td>NaN</td>\n",
       "      <td>NaN</td>\n",
       "      <td>NaN</td>\n",
       "    </tr>\n",
       "  </tbody>\n",
       "</table>\n",
       "</div>"
      ],
      "text/plain": [
       "   id_f  id_pr  id_venta    q  id_vta         dia  factura\n",
       "0     1      4         1   10     1.0  11/02/2024   1001.0\n",
       "1     2      1         2    8     2.0  13/02/2004   1002.0\n",
       "2     3      2         1  100     3.0  16/02/2004   1003.0\n",
       "3     4      3         3   43     NaN         NaN      NaN\n",
       "4     5      4         2   54     NaN         NaN      NaN\n",
       "5     6      2         3   23     NaN         NaN      NaN\n",
       "6     7      3         1   14     NaN         NaN      NaN\n",
       "7     8      1         2  100     NaN         NaN      NaN\n",
       "8     9      2         3  100     NaN         NaN      NaN"
      ]
     },
     "execution_count": 36,
     "metadata": {},
     "output_type": "execute_result"
    }
   ],
   "source": [
    "item_f.join(ventas)"
   ]
  },
  {
   "cell_type": "markdown",
   "metadata": {},
   "source": [
    "Para utilizar los id declarados en las columnas se utiliza *.set_index('columna')*"
   ]
  },
  {
   "cell_type": "code",
   "execution_count": 37,
   "metadata": {},
   "outputs": [
    {
     "data": {
      "text/html": [
       "<div>\n",
       "<style scoped>\n",
       "    .dataframe tbody tr th:only-of-type {\n",
       "        vertical-align: middle;\n",
       "    }\n",
       "\n",
       "    .dataframe tbody tr th {\n",
       "        vertical-align: top;\n",
       "    }\n",
       "\n",
       "    .dataframe thead th {\n",
       "        text-align: right;\n",
       "    }\n",
       "</style>\n",
       "<table border=\"1\" class=\"dataframe\">\n",
       "  <thead>\n",
       "    <tr style=\"text-align: right;\">\n",
       "      <th></th>\n",
       "      <th>id_pr</th>\n",
       "      <th>id_venta</th>\n",
       "      <th>q</th>\n",
       "      <th>nombre</th>\n",
       "      <th>precio</th>\n",
       "    </tr>\n",
       "    <tr>\n",
       "      <th>id_f</th>\n",
       "      <th></th>\n",
       "      <th></th>\n",
       "      <th></th>\n",
       "      <th></th>\n",
       "      <th></th>\n",
       "    </tr>\n",
       "  </thead>\n",
       "  <tbody>\n",
       "    <tr>\n",
       "      <th>1</th>\n",
       "      <td>4</td>\n",
       "      <td>1</td>\n",
       "      <td>10</td>\n",
       "      <td>Cable</td>\n",
       "      <td>5.0</td>\n",
       "    </tr>\n",
       "    <tr>\n",
       "      <th>2</th>\n",
       "      <td>1</td>\n",
       "      <td>2</td>\n",
       "      <td>8</td>\n",
       "      <td>Conec-Rj11</td>\n",
       "      <td>3.0</td>\n",
       "    </tr>\n",
       "    <tr>\n",
       "      <th>3</th>\n",
       "      <td>2</td>\n",
       "      <td>1</td>\n",
       "      <td>100</td>\n",
       "      <td>Conec-Rj45</td>\n",
       "      <td>7.0</td>\n",
       "    </tr>\n",
       "    <tr>\n",
       "      <th>4</th>\n",
       "      <td>3</td>\n",
       "      <td>3</td>\n",
       "      <td>43</td>\n",
       "      <td>SFP</td>\n",
       "      <td>25.0</td>\n",
       "    </tr>\n",
       "    <tr>\n",
       "      <th>5</th>\n",
       "      <td>4</td>\n",
       "      <td>2</td>\n",
       "      <td>54</td>\n",
       "      <td>Fuente</td>\n",
       "      <td>20.0</td>\n",
       "    </tr>\n",
       "    <tr>\n",
       "      <th>6</th>\n",
       "      <td>2</td>\n",
       "      <td>3</td>\n",
       "      <td>23</td>\n",
       "      <td>NaN</td>\n",
       "      <td>NaN</td>\n",
       "    </tr>\n",
       "    <tr>\n",
       "      <th>7</th>\n",
       "      <td>3</td>\n",
       "      <td>1</td>\n",
       "      <td>14</td>\n",
       "      <td>NaN</td>\n",
       "      <td>NaN</td>\n",
       "    </tr>\n",
       "    <tr>\n",
       "      <th>8</th>\n",
       "      <td>1</td>\n",
       "      <td>2</td>\n",
       "      <td>100</td>\n",
       "      <td>NaN</td>\n",
       "      <td>NaN</td>\n",
       "    </tr>\n",
       "    <tr>\n",
       "      <th>9</th>\n",
       "      <td>2</td>\n",
       "      <td>3</td>\n",
       "      <td>100</td>\n",
       "      <td>NaN</td>\n",
       "      <td>NaN</td>\n",
       "    </tr>\n",
       "  </tbody>\n",
       "</table>\n",
       "</div>"
      ],
      "text/plain": [
       "      id_pr  id_venta    q      nombre  precio\n",
       "id_f                                          \n",
       "1         4         1   10       Cable     5.0\n",
       "2         1         2    8  Conec-Rj11     3.0\n",
       "3         2         1  100  Conec-Rj45     7.0\n",
       "4         3         3   43         SFP    25.0\n",
       "5         4         2   54      Fuente    20.0\n",
       "6         2         3   23         NaN     NaN\n",
       "7         3         1   14         NaN     NaN\n",
       "8         1         2  100         NaN     NaN\n",
       "9         2         3  100         NaN     NaN"
      ]
     },
     "execution_count": 37,
     "metadata": {},
     "output_type": "execute_result"
    }
   ],
   "source": [
    "item_f.set_index('id_f').join(prod.set_index('id_prod'))"
   ]
  },
  {
   "cell_type": "markdown",
   "metadata": {},
   "source": [
    "De esta forma combina uno a uno los registros, al igual que merge se pueden dejar solo los registros en comun declarando *how='inner'*"
   ]
  },
  {
   "cell_type": "code",
   "execution_count": 38,
   "metadata": {},
   "outputs": [
    {
     "data": {
      "text/html": [
       "<div>\n",
       "<style scoped>\n",
       "    .dataframe tbody tr th:only-of-type {\n",
       "        vertical-align: middle;\n",
       "    }\n",
       "\n",
       "    .dataframe tbody tr th {\n",
       "        vertical-align: top;\n",
       "    }\n",
       "\n",
       "    .dataframe thead th {\n",
       "        text-align: right;\n",
       "    }\n",
       "</style>\n",
       "<table border=\"1\" class=\"dataframe\">\n",
       "  <thead>\n",
       "    <tr style=\"text-align: right;\">\n",
       "      <th></th>\n",
       "      <th>id_pr</th>\n",
       "      <th>id_venta</th>\n",
       "      <th>q</th>\n",
       "      <th>nombre</th>\n",
       "      <th>precio</th>\n",
       "    </tr>\n",
       "  </thead>\n",
       "  <tbody>\n",
       "    <tr>\n",
       "      <th>1</th>\n",
       "      <td>4</td>\n",
       "      <td>1</td>\n",
       "      <td>10</td>\n",
       "      <td>Cable</td>\n",
       "      <td>5</td>\n",
       "    </tr>\n",
       "    <tr>\n",
       "      <th>2</th>\n",
       "      <td>1</td>\n",
       "      <td>2</td>\n",
       "      <td>8</td>\n",
       "      <td>Conec-Rj11</td>\n",
       "      <td>3</td>\n",
       "    </tr>\n",
       "    <tr>\n",
       "      <th>3</th>\n",
       "      <td>2</td>\n",
       "      <td>1</td>\n",
       "      <td>100</td>\n",
       "      <td>Conec-Rj45</td>\n",
       "      <td>7</td>\n",
       "    </tr>\n",
       "    <tr>\n",
       "      <th>4</th>\n",
       "      <td>3</td>\n",
       "      <td>3</td>\n",
       "      <td>43</td>\n",
       "      <td>SFP</td>\n",
       "      <td>25</td>\n",
       "    </tr>\n",
       "    <tr>\n",
       "      <th>5</th>\n",
       "      <td>4</td>\n",
       "      <td>2</td>\n",
       "      <td>54</td>\n",
       "      <td>Fuente</td>\n",
       "      <td>20</td>\n",
       "    </tr>\n",
       "  </tbody>\n",
       "</table>\n",
       "</div>"
      ],
      "text/plain": [
       "   id_pr  id_venta    q      nombre  precio\n",
       "1      4         1   10       Cable       5\n",
       "2      1         2    8  Conec-Rj11       3\n",
       "3      2         1  100  Conec-Rj45       7\n",
       "4      3         3   43         SFP      25\n",
       "5      4         2   54      Fuente      20"
      ]
     },
     "execution_count": 38,
     "metadata": {},
     "output_type": "execute_result"
    }
   ],
   "source": [
    "item_f.set_index('id_f').join(prod.set_index('id_prod'),how=\"inner\")"
   ]
  },
  {
   "cell_type": "markdown",
   "metadata": {},
   "source": [
    "Para lograr obtener los resultados que quedaron sin incluir con *how('inner')* se debe almacenar en una variable y filtrar la columna con ***NaN*** con la funcion *.isna()*"
   ]
  },
  {
   "cell_type": "code",
   "execution_count": 39,
   "metadata": {},
   "outputs": [
    {
     "data": {
      "text/html": [
       "<div>\n",
       "<style scoped>\n",
       "    .dataframe tbody tr th:only-of-type {\n",
       "        vertical-align: middle;\n",
       "    }\n",
       "\n",
       "    .dataframe tbody tr th {\n",
       "        vertical-align: top;\n",
       "    }\n",
       "\n",
       "    .dataframe thead th {\n",
       "        text-align: right;\n",
       "    }\n",
       "</style>\n",
       "<table border=\"1\" class=\"dataframe\">\n",
       "  <thead>\n",
       "    <tr style=\"text-align: right;\">\n",
       "      <th></th>\n",
       "      <th>id_pr</th>\n",
       "      <th>id_venta</th>\n",
       "      <th>q</th>\n",
       "      <th>nombre</th>\n",
       "      <th>precio</th>\n",
       "    </tr>\n",
       "    <tr>\n",
       "      <th>id_f</th>\n",
       "      <th></th>\n",
       "      <th></th>\n",
       "      <th></th>\n",
       "      <th></th>\n",
       "      <th></th>\n",
       "    </tr>\n",
       "  </thead>\n",
       "  <tbody>\n",
       "    <tr>\n",
       "      <th>6</th>\n",
       "      <td>2</td>\n",
       "      <td>3</td>\n",
       "      <td>23</td>\n",
       "      <td>NaN</td>\n",
       "      <td>NaN</td>\n",
       "    </tr>\n",
       "    <tr>\n",
       "      <th>7</th>\n",
       "      <td>3</td>\n",
       "      <td>1</td>\n",
       "      <td>14</td>\n",
       "      <td>NaN</td>\n",
       "      <td>NaN</td>\n",
       "    </tr>\n",
       "    <tr>\n",
       "      <th>8</th>\n",
       "      <td>1</td>\n",
       "      <td>2</td>\n",
       "      <td>100</td>\n",
       "      <td>NaN</td>\n",
       "      <td>NaN</td>\n",
       "    </tr>\n",
       "    <tr>\n",
       "      <th>9</th>\n",
       "      <td>2</td>\n",
       "      <td>3</td>\n",
       "      <td>100</td>\n",
       "      <td>NaN</td>\n",
       "      <td>NaN</td>\n",
       "    </tr>\n",
       "  </tbody>\n",
       "</table>\n",
       "</div>"
      ],
      "text/plain": [
       "      id_pr  id_venta    q nombre  precio\n",
       "id_f                                     \n",
       "6         2         3   23    NaN     NaN\n",
       "7         3         1   14    NaN     NaN\n",
       "8         1         2  100    NaN     NaN\n",
       "9         2         3  100    NaN     NaN"
      ]
     },
     "execution_count": 39,
     "metadata": {},
     "output_type": "execute_result"
    }
   ],
   "source": [
    "listaNA=item_f.set_index('id_f').join(prod.set_index('id_prod'))\n",
    "listaNA[listaNA['precio'].isna()]"
   ]
  },
  {
   "cell_type": "markdown",
   "metadata": {},
   "source": [
    "Se obtiene el listado completo de la lista con todos los registros sin declarar el indice del primer DF, y dentro de los paréntesis de la función *.join()* colocar *on='clave_foranea'*"
   ]
  },
  {
   "cell_type": "code",
   "execution_count": 40,
   "metadata": {},
   "outputs": [
    {
     "data": {
      "text/html": [
       "<div>\n",
       "<style scoped>\n",
       "    .dataframe tbody tr th:only-of-type {\n",
       "        vertical-align: middle;\n",
       "    }\n",
       "\n",
       "    .dataframe tbody tr th {\n",
       "        vertical-align: top;\n",
       "    }\n",
       "\n",
       "    .dataframe thead th {\n",
       "        text-align: right;\n",
       "    }\n",
       "</style>\n",
       "<table border=\"1\" class=\"dataframe\">\n",
       "  <thead>\n",
       "    <tr style=\"text-align: right;\">\n",
       "      <th></th>\n",
       "      <th>id_f</th>\n",
       "      <th>id_pr</th>\n",
       "      <th>id_venta</th>\n",
       "      <th>q</th>\n",
       "      <th>nombre</th>\n",
       "      <th>precio</th>\n",
       "      <th>dia</th>\n",
       "      <th>factura</th>\n",
       "    </tr>\n",
       "  </thead>\n",
       "  <tbody>\n",
       "    <tr>\n",
       "      <th>0</th>\n",
       "      <td>1</td>\n",
       "      <td>4</td>\n",
       "      <td>1</td>\n",
       "      <td>10</td>\n",
       "      <td>SFP</td>\n",
       "      <td>25</td>\n",
       "      <td>11/02/2024</td>\n",
       "      <td>1001</td>\n",
       "    </tr>\n",
       "    <tr>\n",
       "      <th>1</th>\n",
       "      <td>2</td>\n",
       "      <td>1</td>\n",
       "      <td>2</td>\n",
       "      <td>8</td>\n",
       "      <td>Cable</td>\n",
       "      <td>5</td>\n",
       "      <td>13/02/2004</td>\n",
       "      <td>1002</td>\n",
       "    </tr>\n",
       "    <tr>\n",
       "      <th>2</th>\n",
       "      <td>3</td>\n",
       "      <td>2</td>\n",
       "      <td>1</td>\n",
       "      <td>100</td>\n",
       "      <td>Conec-Rj11</td>\n",
       "      <td>3</td>\n",
       "      <td>11/02/2024</td>\n",
       "      <td>1001</td>\n",
       "    </tr>\n",
       "    <tr>\n",
       "      <th>3</th>\n",
       "      <td>4</td>\n",
       "      <td>3</td>\n",
       "      <td>3</td>\n",
       "      <td>43</td>\n",
       "      <td>Conec-Rj45</td>\n",
       "      <td>7</td>\n",
       "      <td>16/02/2004</td>\n",
       "      <td>1003</td>\n",
       "    </tr>\n",
       "    <tr>\n",
       "      <th>4</th>\n",
       "      <td>5</td>\n",
       "      <td>4</td>\n",
       "      <td>2</td>\n",
       "      <td>54</td>\n",
       "      <td>SFP</td>\n",
       "      <td>25</td>\n",
       "      <td>13/02/2004</td>\n",
       "      <td>1002</td>\n",
       "    </tr>\n",
       "    <tr>\n",
       "      <th>5</th>\n",
       "      <td>6</td>\n",
       "      <td>2</td>\n",
       "      <td>3</td>\n",
       "      <td>23</td>\n",
       "      <td>Conec-Rj11</td>\n",
       "      <td>3</td>\n",
       "      <td>16/02/2004</td>\n",
       "      <td>1003</td>\n",
       "    </tr>\n",
       "    <tr>\n",
       "      <th>6</th>\n",
       "      <td>7</td>\n",
       "      <td>3</td>\n",
       "      <td>1</td>\n",
       "      <td>14</td>\n",
       "      <td>Conec-Rj45</td>\n",
       "      <td>7</td>\n",
       "      <td>11/02/2024</td>\n",
       "      <td>1001</td>\n",
       "    </tr>\n",
       "    <tr>\n",
       "      <th>7</th>\n",
       "      <td>8</td>\n",
       "      <td>1</td>\n",
       "      <td>2</td>\n",
       "      <td>100</td>\n",
       "      <td>Cable</td>\n",
       "      <td>5</td>\n",
       "      <td>13/02/2004</td>\n",
       "      <td>1002</td>\n",
       "    </tr>\n",
       "    <tr>\n",
       "      <th>8</th>\n",
       "      <td>9</td>\n",
       "      <td>2</td>\n",
       "      <td>3</td>\n",
       "      <td>100</td>\n",
       "      <td>Conec-Rj11</td>\n",
       "      <td>3</td>\n",
       "      <td>16/02/2004</td>\n",
       "      <td>1003</td>\n",
       "    </tr>\n",
       "  </tbody>\n",
       "</table>\n",
       "</div>"
      ],
      "text/plain": [
       "   id_f  id_pr  id_venta    q      nombre  precio         dia  factura\n",
       "0     1      4         1   10         SFP      25  11/02/2024     1001\n",
       "1     2      1         2    8       Cable       5  13/02/2004     1002\n",
       "2     3      2         1  100  Conec-Rj11       3  11/02/2024     1001\n",
       "3     4      3         3   43  Conec-Rj45       7  16/02/2004     1003\n",
       "4     5      4         2   54         SFP      25  13/02/2004     1002\n",
       "5     6      2         3   23  Conec-Rj11       3  16/02/2004     1003\n",
       "6     7      3         1   14  Conec-Rj45       7  11/02/2024     1001\n",
       "7     8      1         2  100       Cable       5  13/02/2004     1002\n",
       "8     9      2         3  100  Conec-Rj11       3  16/02/2004     1003"
      ]
     },
     "execution_count": 40,
     "metadata": {},
     "output_type": "execute_result"
    }
   ],
   "source": [
    "# 2 Joins simultaneos.\n",
    "df_total=item_f.join(prod.set_index('id_prod'), on='id_pr').join(ventas.set_index('id_vta'), on='id_venta')\n",
    "df_total"
   ]
  },
  {
   "cell_type": "markdown",
   "metadata": {},
   "source": [
    "Para perar por filas y obtener una columna como resultado para obtener el resultado de cada item facturado, en este caso se agregar una columna con la operación de los campos que interesa."
   ]
  },
  {
   "cell_type": "code",
   "execution_count": 41,
   "metadata": {},
   "outputs": [
    {
     "data": {
      "text/html": [
       "<div>\n",
       "<style scoped>\n",
       "    .dataframe tbody tr th:only-of-type {\n",
       "        vertical-align: middle;\n",
       "    }\n",
       "\n",
       "    .dataframe tbody tr th {\n",
       "        vertical-align: top;\n",
       "    }\n",
       "\n",
       "    .dataframe thead th {\n",
       "        text-align: right;\n",
       "    }\n",
       "</style>\n",
       "<table border=\"1\" class=\"dataframe\">\n",
       "  <thead>\n",
       "    <tr style=\"text-align: right;\">\n",
       "      <th></th>\n",
       "      <th>id_f</th>\n",
       "      <th>id_pr</th>\n",
       "      <th>id_venta</th>\n",
       "      <th>q</th>\n",
       "      <th>nombre</th>\n",
       "      <th>precio</th>\n",
       "      <th>dia</th>\n",
       "      <th>factura</th>\n",
       "      <th>subtotal</th>\n",
       "    </tr>\n",
       "  </thead>\n",
       "  <tbody>\n",
       "    <tr>\n",
       "      <th>0</th>\n",
       "      <td>1</td>\n",
       "      <td>4</td>\n",
       "      <td>1</td>\n",
       "      <td>10</td>\n",
       "      <td>SFP</td>\n",
       "      <td>25</td>\n",
       "      <td>11/02/2024</td>\n",
       "      <td>1001</td>\n",
       "      <td>250</td>\n",
       "    </tr>\n",
       "    <tr>\n",
       "      <th>1</th>\n",
       "      <td>2</td>\n",
       "      <td>1</td>\n",
       "      <td>2</td>\n",
       "      <td>8</td>\n",
       "      <td>Cable</td>\n",
       "      <td>5</td>\n",
       "      <td>13/02/2004</td>\n",
       "      <td>1002</td>\n",
       "      <td>40</td>\n",
       "    </tr>\n",
       "    <tr>\n",
       "      <th>2</th>\n",
       "      <td>3</td>\n",
       "      <td>2</td>\n",
       "      <td>1</td>\n",
       "      <td>100</td>\n",
       "      <td>Conec-Rj11</td>\n",
       "      <td>3</td>\n",
       "      <td>11/02/2024</td>\n",
       "      <td>1001</td>\n",
       "      <td>300</td>\n",
       "    </tr>\n",
       "    <tr>\n",
       "      <th>3</th>\n",
       "      <td>4</td>\n",
       "      <td>3</td>\n",
       "      <td>3</td>\n",
       "      <td>43</td>\n",
       "      <td>Conec-Rj45</td>\n",
       "      <td>7</td>\n",
       "      <td>16/02/2004</td>\n",
       "      <td>1003</td>\n",
       "      <td>301</td>\n",
       "    </tr>\n",
       "    <tr>\n",
       "      <th>4</th>\n",
       "      <td>5</td>\n",
       "      <td>4</td>\n",
       "      <td>2</td>\n",
       "      <td>54</td>\n",
       "      <td>SFP</td>\n",
       "      <td>25</td>\n",
       "      <td>13/02/2004</td>\n",
       "      <td>1002</td>\n",
       "      <td>1350</td>\n",
       "    </tr>\n",
       "    <tr>\n",
       "      <th>5</th>\n",
       "      <td>6</td>\n",
       "      <td>2</td>\n",
       "      <td>3</td>\n",
       "      <td>23</td>\n",
       "      <td>Conec-Rj11</td>\n",
       "      <td>3</td>\n",
       "      <td>16/02/2004</td>\n",
       "      <td>1003</td>\n",
       "      <td>69</td>\n",
       "    </tr>\n",
       "    <tr>\n",
       "      <th>6</th>\n",
       "      <td>7</td>\n",
       "      <td>3</td>\n",
       "      <td>1</td>\n",
       "      <td>14</td>\n",
       "      <td>Conec-Rj45</td>\n",
       "      <td>7</td>\n",
       "      <td>11/02/2024</td>\n",
       "      <td>1001</td>\n",
       "      <td>98</td>\n",
       "    </tr>\n",
       "    <tr>\n",
       "      <th>7</th>\n",
       "      <td>8</td>\n",
       "      <td>1</td>\n",
       "      <td>2</td>\n",
       "      <td>100</td>\n",
       "      <td>Cable</td>\n",
       "      <td>5</td>\n",
       "      <td>13/02/2004</td>\n",
       "      <td>1002</td>\n",
       "      <td>500</td>\n",
       "    </tr>\n",
       "    <tr>\n",
       "      <th>8</th>\n",
       "      <td>9</td>\n",
       "      <td>2</td>\n",
       "      <td>3</td>\n",
       "      <td>100</td>\n",
       "      <td>Conec-Rj11</td>\n",
       "      <td>3</td>\n",
       "      <td>16/02/2004</td>\n",
       "      <td>1003</td>\n",
       "      <td>300</td>\n",
       "    </tr>\n",
       "  </tbody>\n",
       "</table>\n",
       "</div>"
      ],
      "text/plain": [
       "   id_f  id_pr  id_venta    q      nombre  precio         dia  factura  \\\n",
       "0     1      4         1   10         SFP      25  11/02/2024     1001   \n",
       "1     2      1         2    8       Cable       5  13/02/2004     1002   \n",
       "2     3      2         1  100  Conec-Rj11       3  11/02/2024     1001   \n",
       "3     4      3         3   43  Conec-Rj45       7  16/02/2004     1003   \n",
       "4     5      4         2   54         SFP      25  13/02/2004     1002   \n",
       "5     6      2         3   23  Conec-Rj11       3  16/02/2004     1003   \n",
       "6     7      3         1   14  Conec-Rj45       7  11/02/2024     1001   \n",
       "7     8      1         2  100       Cable       5  13/02/2004     1002   \n",
       "8     9      2         3  100  Conec-Rj11       3  16/02/2004     1003   \n",
       "\n",
       "   subtotal  \n",
       "0       250  \n",
       "1        40  \n",
       "2       300  \n",
       "3       301  \n",
       "4      1350  \n",
       "5        69  \n",
       "6        98  \n",
       "7       500  \n",
       "8       300  "
      ]
     },
     "execution_count": 41,
     "metadata": {},
     "output_type": "execute_result"
    }
   ],
   "source": [
    "df_total['subtotal']=df_total['q']*df_total['precio']\n",
    "df_total"
   ]
  }
 ],
 "metadata": {
  "kernelspec": {
   "display_name": "Python 3",
   "language": "python",
   "name": "python3"
  },
  "language_info": {
   "codemirror_mode": {
    "name": "ipython",
    "version": 3
   },
   "file_extension": ".py",
   "mimetype": "text/x-python",
   "name": "python",
   "nbconvert_exporter": "python",
   "pygments_lexer": "ipython3",
   "version": "3.10.13"
  }
 },
 "nbformat": 4,
 "nbformat_minor": 2
}
