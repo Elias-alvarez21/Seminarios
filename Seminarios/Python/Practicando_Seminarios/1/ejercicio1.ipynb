{
 "cells": [
  {
   "cell_type": "code",
   "execution_count": 3,
   "metadata": {},
   "outputs": [
    {
     "name": "stderr",
     "output_type": "stream",
     "text": [
      "C:\\Users\\ea873\\AppData\\Local\\Temp\\ipykernel_4824\\2598564184.py:2: DtypeWarning: Columns (70,71,72,73,74,76,79) have mixed types. Specify dtype option on import or set low_memory=False.\n",
      "  df=pd.read_csv(\"vehicles.csv\")\n"
     ]
    },
    {
     "data": {
      "text/plain": [
       "Index(['barrels08', 'barrelsA08', 'charge120', 'charge240', 'city08',\n",
       "       'city08U', 'cityA08', 'cityA08U', 'cityCD', 'cityE', 'cityUF', 'co2',\n",
       "       'co2A', 'co2TailpipeAGpm', 'co2TailpipeGpm', 'comb08', 'comb08U',\n",
       "       'combA08', 'combA08U', 'combE', 'combinedCD', 'combinedUF', 'cylinders',\n",
       "       'displ', 'drive', 'engId', 'eng_dscr', 'feScore', 'fuelCost08',\n",
       "       'fuelCostA08', 'fuelType', 'fuelType1', 'ghgScore', 'ghgScoreA',\n",
       "       'highway08', 'highway08U', 'highwayA08', 'highwayA08U', 'highwayCD',\n",
       "       'highwayE', 'highwayUF', 'hlv', 'hpv', 'id', 'lv2', 'lv4', 'make',\n",
       "       'model', 'mpgData', 'phevBlended', 'pv2', 'pv4', 'range', 'rangeCity',\n",
       "       'rangeCityA', 'rangeHwy', 'rangeHwyA', 'trany', 'UCity', 'UCityA',\n",
       "       'UHighway', 'UHighwayA', 'VClass', 'year', 'youSaveSpend', 'guzzler',\n",
       "       'trans_dscr', 'tCharger', 'sCharger', 'atvType', 'fuelType2', 'rangeA',\n",
       "       'evMotor', 'mfrCode', 'c240Dscr', 'charge240b', 'c240bDscr',\n",
       "       'createdOn', 'modifiedOn', 'startStop', 'phevCity', 'phevHwy',\n",
       "       'phevComb'],\n",
       "      dtype='object')"
      ]
     },
     "execution_count": 3,
     "metadata": {},
     "output_type": "execute_result"
    }
   ],
   "source": [
    "import pandas as pd\n",
    "df=pd.read_csv(\"vehicles.csv\")\n",
    "df.columns"
   ]
  },
  {
   "cell_type": "code",
   "execution_count": 6,
   "metadata": {},
   "outputs": [
    {
     "name": "stdout",
     "output_type": "stream",
     "text": [
      "cylinders           float64\n",
      "eje_motriz           object\n",
      "consumo_litros      float64\n",
      "tipo_combustible     object\n",
      "highway08             int64\n",
      "marca                object\n",
      "modelo               object\n",
      "transmision          object\n",
      "año                   int64\n",
      "dtype: object\n"
     ]
    }
   ],
   "source": [
    "dfFil=df.loc[:,[\"cylinders\",\"drive\",\"displ\",\"fuelType\",\"highway08\",\"make\",\"model\",\"trany\",\"year\"]]\n",
    "dfFil=dfFil.rename(columns={\"cyllinders\":\"cilindros\",\"drive\":\"eje_motriz\",\"displ\":\"consumo_litros\",\"fuelType\":\"tipo_combustible\",\"higway08\":\"mpg\",\"make\":\"marca\",\n",
    "             \"model\":\"modelo\",\"trany\":\"transmision\",\"year\":\"año\"})\n",
    "print(dfFil.dtypes)\n",
    "dfFil=dfFil[(dfFil.marca=='Audi')|(dfFil.marca=='BMW')|(dfFil.marca=='Porsche')|(dfFil.marca=='Volvo')|(dfFil.marca=='Mercedes-Benz')]\n",
    "\n",
    "dfFil.query(\"tipo_combustible =='Premium' or tipo_combustible =='Electricity'\", inplace=True)#TENER CUIDADO CON EL inplace=True\n",
    "dfFil.query(\"año>= 2020 and año<=2023\",inplace=True)\n",
    "\n",
    "dfFil.sort_values(by=\"año\")\n",
    "dfFil2=dfFil.loc[:,[\"marca\",\"tipo_combustible\"]]"
   ]
  },
  {
   "cell_type": "code",
   "execution_count": 111,
   "metadata": {},
   "outputs": [
    {
     "data": {
      "text/html": [
       "<div>\n",
       "<style scoped>\n",
       "    .dataframe tbody tr th:only-of-type {\n",
       "        vertical-align: middle;\n",
       "    }\n",
       "\n",
       "    .dataframe tbody tr th {\n",
       "        vertical-align: top;\n",
       "    }\n",
       "\n",
       "    .dataframe thead th {\n",
       "        text-align: right;\n",
       "    }\n",
       "</style>\n",
       "<table border=\"1\" class=\"dataframe\">\n",
       "  <thead>\n",
       "    <tr style=\"text-align: right;\">\n",
       "      <th></th>\n",
       "      <th>marca</th>\n",
       "      <th>count</th>\n",
       "    </tr>\n",
       "  </thead>\n",
       "  <tbody>\n",
       "    <tr>\n",
       "      <th>0</th>\n",
       "      <td>BMW</td>\n",
       "      <td>343</td>\n",
       "    </tr>\n",
       "    <tr>\n",
       "      <th>1</th>\n",
       "      <td>Mercedes-Benz</td>\n",
       "      <td>262</td>\n",
       "    </tr>\n",
       "    <tr>\n",
       "      <th>2</th>\n",
       "      <td>Porsche</td>\n",
       "      <td>219</td>\n",
       "    </tr>\n",
       "    <tr>\n",
       "      <th>3</th>\n",
       "      <td>Audi</td>\n",
       "      <td>155</td>\n",
       "    </tr>\n",
       "    <tr>\n",
       "      <th>4</th>\n",
       "      <td>Volvo</td>\n",
       "      <td>55</td>\n",
       "    </tr>\n",
       "  </tbody>\n",
       "</table>\n",
       "</div>"
      ],
      "text/plain": [
       "           marca  count\n",
       "0            BMW    343\n",
       "1  Mercedes-Benz    262\n",
       "2        Porsche    219\n",
       "3           Audi    155\n",
       "4          Volvo     55"
      ]
     },
     "execution_count": 111,
     "metadata": {},
     "output_type": "execute_result"
    }
   ],
   "source": [
    "df1=dfFil2.query(\"tipo_combustible == 'Premium'\")\n",
    "df1=df1[\"marca\"].value_counts().reset_index()\n",
    "df2=dfFil2.query(\"tipo_combustible == 'Electricity'\")\n",
    "df2=df2[\"marca\"].value_counts().reset_index()\n",
    "df1"
   ]
  },
  {
   "cell_type": "code",
   "execution_count": 114,
   "metadata": {},
   "outputs": [
    {
     "data": {
      "text/plain": [
       "<matplotlib.legend.Legend at 0x2908f1ce380>"
      ]
     },
     "execution_count": 114,
     "metadata": {},
     "output_type": "execute_result"
    },
    {
     "data": {
      "image/png": "[encoded data removed]",
      "text/plain": [
       "<Figure size 640x480 with 1 Axes>"
      ]
     },
     "metadata": {},
     "output_type": "display_data"
    }
   ],
   "source": [
    "import matplotlib.pyplot as plt\n",
    "fig, ax=plt.subplots()\n",
    "ax.bar(df1.marca,df1[\"count\"], label=\"Premium\")\n",
    "ax.bar(df1.marca,df2[\"count\"], bottom=df1[\"count\"], label=\"Electricidad\")\n",
    "ax.legend(loc = 'upper right')"
   ]
  }
 ],
 "metadata": {
  "kernelspec": {
   "display_name": "Estadisticas",
   "language": "python",
   "name": "python3"
  },
  "language_info": {
   "codemirror_mode": {
    "name": "ipython",
    "version": 3
   },
   "file_extension": ".py",
   "mimetype": "text/x-python",
   "name": "python",
   "nbconvert_exporter": "python",
   "pygments_lexer": "ipython3",
   "version": "3.10.13"
  }
 },
 "nbformat": 4,
 "nbformat_minor": 2
}
