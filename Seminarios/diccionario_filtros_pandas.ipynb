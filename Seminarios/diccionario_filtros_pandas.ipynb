{
 "cells": [
  {
   "cell_type": "markdown",
   "id": "6c5d4819",
   "metadata": {},
   "source": [
    "\n",
    "# Diccionario de Filtros en Pandas\n",
    "\n",
    "Este notebook contiene un resumen de los filtros más comunes y útiles en pandas, con ejemplos detallados de cada uno.\n",
    "\n",
    "### Contenido:\n",
    "1. **Filtrado basado en una condición única**\n",
    "2. **Filtrado con múltiples condiciones**\n",
    "3. **Filtrado por valores nulos**\n",
    "4. **Filtrado usando `isin()`**\n",
    "5. **Filtrado por índice**\n",
    "6. **Filtrado con `query()`**\n",
    "7. **Filtrado basado en valores únicos**\n",
    "8. **Filtrado usando `.loc[]` y `.iloc[]`**\n",
    "9. **Filtrado por patrones de texto**\n"
   ]
  },
  {
   "cell_type": "markdown",
   "id": "8c0ceda7",
   "metadata": {},
   "source": [
    "\n",
    "## 1. Filtrado basado en una condición única\n",
    "\n",
    "El filtrado básico en pandas se realiza usando una condición que devuelve un valor booleano (True o False). Esto permite seleccionar filas que cumplen con esa condición.\n",
    "\n",
    "**Ejemplo:**\n",
    "\n",
    "Filtrar un DataFrame para obtener solo las filas donde la columna `A` es mayor que 5.\n",
    "\n",
    "```python\n",
    "\n",
    "```\n"
   ]
  },
  {
   "cell_type": "code",
   "execution_count": null,
   "id": "decb9912",
   "metadata": {},
   "outputs": [],
   "source": [
    "import pandas as pd\n",
    "\n",
    "data = {'A': [1, 6, 3, 8, 5], 'B': [10, 20, 30, 40, 50]}\n",
    "df = pd.DataFrame(data)\n",
    "\n",
    "# Filtrar filas donde la columna A es mayor que 5\n",
    "filtered_df = df[df['A'] > 5]\n",
    "print(filtered_df)"
   ]
  },
  {
   "cell_type": "markdown",
   "id": "54330c61",
   "metadata": {},
   "source": [
    "\n",
    "## 2. Filtrado con múltiples condiciones\n",
    "\n",
    "Puedes combinar varias condiciones utilizando los operadores `&` (AND) y `|` (OR). Las condiciones deben estar entre paréntesis.\n",
    "\n",
    "**Ejemplo:**\n",
    "\n",
    "Filtrar un DataFrame para obtener solo las filas donde la columna `A` es mayor que 5 **y** la columna `B` es menor que 40.\n",
    "\n",
    "```python\n",
    "\n",
    "```\n"
   ]
  },
  {
   "cell_type": "code",
   "execution_count": null,
   "id": "76c93692",
   "metadata": {},
   "outputs": [],
   "source": [
    "# Filtrar filas donde la columna A es mayor que 5 y la columna B es menor que 40\n",
    "filtered_df = df[(df['A'] > 5) & (df['B'] < 40)]\n",
    "print(filtered_df)"
   ]
  },
  {
   "cell_type": "markdown",
   "id": "947d0323",
   "metadata": {},
   "source": [
    "\n",
    "## 3. Filtrado por valores nulos\n",
    "\n",
    "Puedes filtrar filas que contengan valores nulos (`NaN`) utilizando el método `isnull()` o `notnull()`.\n",
    "\n",
    "**Ejemplo:**\n",
    "\n",
    "Filtrar un DataFrame para obtener solo las filas donde la columna `A` tiene un valor nulo.\n",
    "\n",
    "```python\n",
    "\n",
    "```\n"
   ]
  },
  {
   "cell_type": "code",
   "execution_count": null,
   "id": "41934006",
   "metadata": {},
   "outputs": [],
   "source": [
    "import numpy as np\n",
    "\n",
    "data = {'A': [1, np.nan, 3, np.nan, 5], 'B': [10, 20, 30, 40, 50]}\n",
    "df = pd.DataFrame(data)\n",
    "\n",
    "# Filtrar filas donde la columna A tiene valores nulos\n",
    "filtered_df = df[df['A'].isnull()]\n",
    "print(filtered_df)"
   ]
  },
  {
   "cell_type": "markdown",
   "id": "b2fe2dd1",
   "metadata": {},
   "source": [
    "\n",
    "## 4. Filtrado usando `isin()`\n",
    "\n",
    "El método `isin()` se utiliza para filtrar filas que contienen valores dentro de una lista específica.\n",
    "\n",
    "**Ejemplo:**\n",
    "\n",
    "Filtrar un DataFrame para obtener solo las filas donde la columna `B` es igual a 10 o 30.\n",
    "\n",
    "```python\n",
    "\n",
    "```\n"
   ]
  },
  {
   "cell_type": "code",
   "execution_count": null,
   "id": "a8e9223b",
   "metadata": {},
   "outputs": [],
   "source": [
    "# Filtrar filas donde la columna B tiene valores 10 o 30\n",
    "filtered_df = df[df['B'].isin([10, 30])]\n",
    "print(filtered_df)"
   ]
  },
  {
   "cell_type": "markdown",
   "id": "1b1b30e3",
   "metadata": {},
   "source": [
    "\n",
    "## 5. Filtrado por índice\n",
    "\n",
    "Puedes filtrar filas o columnas usando los valores del índice.\n",
    "\n",
    "**Ejemplo:**\n",
    "\n",
    "Filtrar un DataFrame para obtener las filas con índices específicos.\n",
    "\n",
    "```python\n",
    "\n",
    "```\n"
   ]
  },
  {
   "cell_type": "code",
   "execution_count": null,
   "id": "dfaf3c07",
   "metadata": {},
   "outputs": [],
   "source": [
    "# Filtrar filas por índice\n",
    "filtered_df = df.loc[[0, 2]]\n",
    "print(filtered_df)"
   ]
  },
  {
   "cell_type": "markdown",
   "id": "d9428516",
   "metadata": {},
   "source": [
    "\n",
    "## 6. Filtrado con `query()`\n",
    "\n",
    "El método `query()` permite filtrar un DataFrame usando una expresión similar a SQL.\n",
    "\n",
    "**Ejemplo:**\n",
    "\n",
    "Filtrar un DataFrame para obtener solo las filas donde la columna `A` es mayor que 5.\n",
    "\n",
    "```python\n",
    "\n",
    "```\n"
   ]
  },
  {
   "cell_type": "code",
   "execution_count": null,
   "id": "ebec5df6",
   "metadata": {},
   "outputs": [],
   "source": [
    "# Filtrar usando query\n",
    "filtered_df = df.query('A > 5')\n",
    "print(filtered_df)"
   ]
  },
  {
   "cell_type": "markdown",
   "id": "b283b0c3",
   "metadata": {},
   "source": [
    "\n",
    "## 7. Filtrado basado en valores únicos\n",
    "\n",
    "El método `drop_duplicates()` elimina filas duplicadas, pero también puede usarse para filtrar filas basadas en valores únicos.\n",
    "\n",
    "**Ejemplo:**\n",
    "\n",
    "Filtrar un DataFrame para obtener solo las filas con valores únicos en la columna `A`.\n",
    "\n",
    "```python\n",
    "\n",
    "```\n"
   ]
  },
  {
   "cell_type": "code",
   "execution_count": null,
   "id": "81fd2cb0",
   "metadata": {},
   "outputs": [],
   "source": [
    "# Filtrar filas únicas basadas en la columna A\n",
    "filtered_df = df.drop_duplicates(subset=['A'])\n",
    "print(filtered_df)"
   ]
  },
  {
   "cell_type": "markdown",
   "id": "452a7d45",
   "metadata": {},
   "source": [
    "\n",
    "## 8. Filtrado usando `.iloc[]`\n",
    "\n",
    "Los métodos `.loc[]` y `.iloc[]` permiten acceder a subconjuntos de datos basados en etiquetas o posiciones.\n",
    "\n",
    "**Ejemplo:**\n",
    "\n",
    "Filtrar un DataFrame para obtener las filas en las posiciones 1 y 3.\n",
    "\n",
    "```python\n",
    "\n",
    "```\n"
   ]
  },
  {
   "cell_type": "code",
   "execution_count": null,
   "id": "c8cac100",
   "metadata": {},
   "outputs": [],
   "source": [
    "# Filtrar filas usando iloc\n",
    "filtered_df = df.iloc[[1, 3]]\n",
    "print(filtered_df)"
   ]
  },
  {
   "cell_type": "markdown",
   "id": "f8f2f868",
   "metadata": {},
   "source": [
    "\n",
    "## 9. Filtrado por patrones de texto\n",
    "\n",
    "Puedes filtrar filas basadas en si una columna contiene un cierto patrón de texto utilizando el método `str.contains()`.\n",
    "\n",
    "**Ejemplo:**\n",
    "\n",
    "Filtrar un DataFrame para obtener solo las filas donde la columna `B` contiene el dígito `3`.\n",
    "\n",
    "```python\n",
    "\n",
    "```\n"
   ]
  },
  {
   "cell_type": "code",
   "execution_count": null,
   "id": "ba9bcde9",
   "metadata": {},
   "outputs": [],
   "source": [
    "# Filtrar filas donde la columna B contiene el dígito 3\n",
    "filtered_df = df[df['B'].astype(str).str.contains('3')]\n",
    "print(filtered_df)"
   ]
  },
  {
   "cell_type": "markdown",
   "id": "84c4e3d2",
   "metadata": {},
   "source": [
    "## 10. Filtrado usando between()\n",
    "Filtra los valores que están entre un rango específico."
   ]
  },
  {
   "cell_type": "code",
   "execution_count": null,
   "id": "285bc267",
   "metadata": {},
   "outputs": [],
   "source": [
    "# Filtrar valores entre un rango\n",
    "filtered_df = df[df['A'].between(3, 8)]\n"
   ]
  },
  {
   "cell_type": "markdown",
   "id": "0a0f3672",
   "metadata": {},
   "source": [
    "## 16. Filtrado por filas duplicadas con duplicated()\n",
    "Encuentra y filtra filas duplicadas."
   ]
  },
  {
   "cell_type": "code",
   "execution_count": null,
   "id": "b2c8fa28",
   "metadata": {},
   "outputs": [],
   "source": [
    "# Filtrar filas duplicadas\n",
    "filtered_df = df[df.duplicated()]\n"
   ]
  }
 ],
 "metadata": {
  "kernelspec": {
   "display_name": "Estadisticas",
   "language": "python",
   "name": "python3"
  },
  "language_info": {
   "name": "python",
   "version": "3.10.13"
  }
 },
 "nbformat": 4,
 "nbformat_minor": 5
}
